{
 "cells": [
  {
   "cell_type": "code",
   "execution_count": 1,
   "id": "73016aa2",
   "metadata": {},
   "outputs": [
    {
     "name": "stderr",
     "output_type": "stream",
     "text": [
      "2021-09-01 16:22:57.142135: W tensorflow/stream_executor/platform/default/dso_loader.cc:64] Could not load dynamic library 'libcudart.so.11.0'; dlerror: libcudart.so.11.0: cannot open shared object file: No such file or directory\n",
      "2021-09-01 16:22:57.143932: I tensorflow/stream_executor/cuda/cudart_stub.cc:29] Ignore above cudart dlerror if you do not have a GPU set up on your machine.\n"
     ]
    }
   ],
   "source": [
    "import pandas as pd\n",
    "import numpy as np\n",
    "import imageio\n",
    "import matplotlib.pyplot as plt\n",
    "from tensorflow.keras.backend import expand_dims\n",
    "from tensorflow.keras.preprocessing import image_dataset_from_directory"
   ]
  },
  {
   "cell_type": "code",
   "execution_count": 2,
   "id": "b30b9b7a",
   "metadata": {},
   "outputs": [],
   "source": [
    "from tensorflow.keras.preprocessing.image import ImageDataGenerator\n",
    "import numpy as np\n",
    "import pandas as pd\n",
    "import matplotlib.pyplot as plt\n",
    "from tensorflow.keras import Sequential, layers\n",
    "from tensorflow.keras.callbacks import EarlyStopping\n",
    "import tensorflow as tf"
   ]
  },
  {
   "cell_type": "code",
   "execution_count": 3,
   "id": "cb3a7e60",
   "metadata": {},
   "outputs": [],
   "source": [
    "datagen = ImageDataGenerator(\n",
    "    rescale = 1./255, # need to remember we have normalised here so don't do it within neural networks\n",
    "    rotation_range = 5,\n",
    "    zoom_range = (0.90, 0.90),\n",
    "    brightness_range = (0.95, 0.95),\n",
    "    horizontal_flip = True,\n",
    "    vertical_flip = True,\n",
    "    data_format = 'channels_last',\n",
    "    validation_split = 0.2,\n",
    "    dtype = tf.bfloat16\n",
    ")"
   ]
  },
  {
   "cell_type": "code",
   "execution_count": 11,
   "id": "4ccff44e",
   "metadata": {},
   "outputs": [
    {
     "name": "stdout",
     "output_type": "stream",
     "text": [
      "Found 4098 images belonging to 4 classes.\n"
     ]
    }
   ],
   "source": [
    "train_generator = datagen.flow_from_directory(\n",
    "    '/home/iman/code/katarzyna-kupczyk/alzheimers_final_project/raw_data/AlzheimersDataset/train',\n",
    "    target_size = (208, 176),\n",
    "    batch_size = (32),\n",
    "    class_mode = 'categorical',\n",
    "    shuffle = True,\n",
    "    subset = 'training',\n",
    "    seed = 123\n",
    ")"
   ]
  },
  {
   "cell_type": "code",
   "execution_count": 12,
   "id": "67e6b027",
   "metadata": {},
   "outputs": [
    {
     "name": "stdout",
     "output_type": "stream",
     "text": [
      "Found 1023 images belonging to 4 classes.\n"
     ]
    }
   ],
   "source": [
    "validation_generator = datagen.flow_from_directory(\n",
    "    '/home/iman/code/katarzyna-kupczyk/alzheimers_final_project/raw_data/AlzheimersDataset/train',\n",
    "    target_size = (208, 176),\n",
    "    batch_size = (32),\n",
    "    class_mode = 'categorical',\n",
    "    shuffle = True,\n",
    "    subset = 'validation',\n",
    "    seed = 123\n",
    ")\n"
   ]
  },
  {
   "cell_type": "code",
   "execution_count": 13,
   "id": "f471b9c4",
   "metadata": {},
   "outputs": [
    {
     "name": "stdout",
     "output_type": "stream",
     "text": [
      "Model: \"sequential_1\"\n",
      "_________________________________________________________________\n",
      "Layer (type)                 Output Shape              Param #   \n",
      "=================================================================\n",
      "conv2d_2 (Conv2D)            (None, 208, 176, 16)      448       \n",
      "_________________________________________________________________\n",
      "max_pooling2d_2 (MaxPooling2 (None, 104, 88, 16)       0         \n",
      "_________________________________________________________________\n",
      "conv2d_3 (Conv2D)            (None, 104, 88, 32)       2080      \n",
      "_________________________________________________________________\n",
      "max_pooling2d_3 (MaxPooling2 (None, 52, 44, 32)        0         \n",
      "_________________________________________________________________\n",
      "flatten_1 (Flatten)          (None, 73216)             0         \n",
      "_________________________________________________________________\n",
      "dense_2 (Dense)              (None, 50)                3660850   \n",
      "_________________________________________________________________\n",
      "dense_3 (Dense)              (None, 4)                 204       \n",
      "=================================================================\n",
      "Total params: 3,663,582\n",
      "Trainable params: 3,663,582\n",
      "Non-trainable params: 0\n",
      "_________________________________________________________________\n"
     ]
    }
   ],
   "source": [
    "\n",
    "model = Sequential()\n",
    "model.add(layers.Conv2D(16, (3,3), input_shape=(208, 176, 3), padding='same', activation=\"relu\"))\n",
    "model.add(layers.MaxPool2D(pool_size=(2,2)))\n",
    "model.add(layers.Conv2D(32, (2,2), padding='same', activation=\"relu\"))\n",
    "model.add(layers.MaxPool2D(pool_size=(2,2))) \n",
    "model.add(layers.Flatten())\n",
    "model.add(layers.Dense(50, activation='relu')) # intermediate layer\n",
    "model.add(layers.Dense(4, activation='softmax'))\n",
    "model.summary()\n",
    "\n"
   ]
  },
  {
   "cell_type": "code",
   "execution_count": 14,
   "id": "1713a656",
   "metadata": {},
   "outputs": [],
   "source": [
    "model.compile(optimizer='adam', loss='categorical_crossentropy', metrics='AUC')"
   ]
  },
  {
   "cell_type": "code",
   "execution_count": 15,
   "id": "91253c13",
   "metadata": {},
   "outputs": [],
   "source": [
    "es = EarlyStopping(patience=5, restore_best_weights=True)"
   ]
  },
  {
   "cell_type": "code",
   "execution_count": 16,
   "id": "fcbce06c",
   "metadata": {},
   "outputs": [
    {
     "name": "stdout",
     "output_type": "stream",
     "text": [
      "Epoch 1/50\n",
      "129/129 [==============================] - 144s 1s/step - loss: 1.0140 - auc: 0.8045 - val_loss: 1.1015 - val_auc: 0.7603\n",
      "Epoch 2/50\n",
      "129/129 [==============================] - 115s 894ms/step - loss: 0.8808 - auc: 0.8564 - val_loss: 1.1037 - val_auc: 0.7733\n",
      "Epoch 3/50\n",
      "129/129 [==============================] - 128s 992ms/step - loss: 0.8255 - auc: 0.8763 - val_loss: 1.2374 - val_auc: 0.7291\n",
      "Epoch 4/50\n",
      "129/129 [==============================] - 95s 737ms/step - loss: 0.7616 - auc: 0.8949 - val_loss: 1.1109 - val_auc: 0.7928\n",
      "Epoch 5/50\n",
      "129/129 [==============================] - 84s 645ms/step - loss: 0.7197 - auc: 0.9073 - val_loss: 1.0500 - val_auc: 0.7953\n",
      "Epoch 6/50\n",
      "129/129 [==============================] - 90s 697ms/step - loss: 0.6546 - auc: 0.9232 - val_loss: 1.1243 - val_auc: 0.7861\n",
      "Epoch 7/50\n",
      "129/129 [==============================] - 102s 789ms/step - loss: 0.6179 - auc: 0.9309 - val_loss: 1.2086 - val_auc: 0.8021\n",
      "Epoch 8/50\n",
      "129/129 [==============================] - 106s 818ms/step - loss: 0.5702 - auc: 0.9412 - val_loss: 1.1435 - val_auc: 0.8204\n",
      "Epoch 9/50\n",
      "129/129 [==============================] - 123s 950ms/step - loss: 0.5304 - auc: 0.9491 - val_loss: 1.0660 - val_auc: 0.8286\n",
      "Epoch 10/50\n",
      "129/129 [==============================] - 136s 1s/step - loss: 0.5039 - auc: 0.9536 - val_loss: 1.0725 - val_auc: 0.8294\n"
     ]
    },
    {
     "data": {
      "text/plain": [
       "<keras.callbacks.History at 0x7fc1dc954610>"
      ]
     },
     "execution_count": 16,
     "metadata": {},
     "output_type": "execute_result"
    }
   ],
   "source": [
    "model.fit(train_generator, validation_data=validation_generator, epochs=50, callbacks=[es], verbose=1)"
   ]
  },
  {
   "cell_type": "code",
   "execution_count": 19,
   "id": "fc336e51",
   "metadata": {},
   "outputs": [
    {
     "name": "stdout",
     "output_type": "stream",
     "text": [
      "32/32 [==============================] - 16s 469ms/step - loss: 1.0514 - auc: 0.7946\n"
     ]
    },
    {
     "data": {
      "text/plain": [
       "[1.0514230728149414, 0.7946208119392395]"
      ]
     },
     "execution_count": 19,
     "metadata": {},
     "output_type": "execute_result"
    }
   ],
   "source": [
    "model.evaluate(validation_generator)\n"
   ]
  }
 ],
 "metadata": {
  "kernelspec": {
   "display_name": "Python 3 (ipykernel)",
   "language": "python",
   "name": "python3"
  },
  "language_info": {
   "codemirror_mode": {
    "name": "ipython",
    "version": 3
   },
   "file_extension": ".py",
   "mimetype": "text/x-python",
   "name": "python",
   "nbconvert_exporter": "python",
   "pygments_lexer": "ipython3",
   "version": "3.8.6"
  },
  "toc": {
   "base_numbering": 1,
   "nav_menu": {},
   "number_sections": true,
   "sideBar": true,
   "skip_h1_title": false,
   "title_cell": "Table of Contents",
   "title_sidebar": "Contents",
   "toc_cell": false,
   "toc_position": {},
   "toc_section_display": true,
   "toc_window_display": false
  }
 },
 "nbformat": 4,
 "nbformat_minor": 5
}
