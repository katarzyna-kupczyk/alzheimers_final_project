{
  "nbformat": 4,
  "nbformat_minor": 5,
  "metadata": {
    "kernelspec": {
      "display_name": "Python 3 (ipykernel)",
      "language": "python",
      "name": "python3"
    },
    "language_info": {
      "codemirror_mode": {
        "name": "ipython",
        "version": 3
      },
      "file_extension": ".py",
      "mimetype": "text/x-python",
      "name": "python",
      "nbconvert_exporter": "python",
      "pygments_lexer": "ipython3",
      "version": "3.8.6"
    },
    "toc": {
      "base_numbering": 1,
      "nav_menu": {},
      "number_sections": true,
      "sideBar": true,
      "skip_h1_title": false,
      "title_cell": "Table of Contents",
      "title_sidebar": "Contents",
      "toc_cell": false,
      "toc_position": {},
      "toc_section_display": true,
      "toc_window_display": false
    },
    "colab": {
      "name": "Augmentation_trained.ipynb",
      "provenance": []
    },
    "accelerator": "GPU"
  },
  "cells": [
    {
      "cell_type": "code",
      "metadata": {
        "colab": {
          "base_uri": "https://localhost:8080/"
        },
        "id": "Ci1RldFBTNcE",
        "outputId": "b9dc62d9-d6b2-45e4-f14f-f976a7caf8c0"
      },
      "source": [
        "from google.colab import drive\n",
        "drive.mount('/content/drive/')"
      ],
      "id": "Ci1RldFBTNcE",
      "execution_count": null,
      "outputs": [
        {
          "output_type": "stream",
          "name": "stdout",
          "text": [
            "Mounted at /content/drive/\n"
          ]
        }
      ]
    },
    {
      "cell_type": "code",
      "metadata": {
        "id": "3743a75b"
      },
      "source": [
        "# Import dependencies\n",
        "from tensorflow.keras.preprocessing import image_dataset_from_directory\n",
        "import tensorflow as tf\n",
        "\n",
        "#data.py\n",
        "# Insert your local path to train data and test data here:\n",
        "path_to_train_data = '/content/drive/MyDrive/LeWagon/AlzheimersDataset/train'\n",
        "path_to_test_data =  '/content/drive/MyDrive/LeWagon/AlzheimersDataset/test'\n",
        "\n",
        "def train_data_loading(path_to_train_data):\n",
        "\n",
        "    # Train Generator\n",
        "    train_generator = image_dataset_from_directory(\n",
        "    path_to_train_data,\n",
        "    image_size = IMAGE_SIZE,\n",
        "    batch_size = BATCH_SIZE,\n",
        "    labels = 'inferred',\n",
        "    label_mode = 'categorical',\n",
        "    shuffle = True,\n",
        "    validation_split = 0.2,\n",
        "    subset = 'training',\n",
        "    seed = 123)\n",
        "\n",
        "    # Validation Generator\n",
        "    validation_generator = image_dataset_from_directory(\n",
        "    path_to_train_data,\n",
        "    image_size = IMAGE_SIZE,\n",
        "    batch_size = BATCH_SIZE,\n",
        "    labels = 'inferred',\n",
        "    label_mode = 'categorical',\n",
        "    shuffle = True,\n",
        "    validation_split = 0.2,\n",
        "    subset = 'validation',\n",
        "    seed = 123)\n",
        "\n",
        "    return train_generator, validation_generator\n",
        "\n",
        "def test_data_loading(path_to_test_data):\n",
        "\n",
        "    # Test Generator\n",
        "    test_generator = image_dataset_from_directory(\n",
        "    path_to_test_data,\n",
        "    image_size = IMAGE_SIZE,\n",
        "    batch_size = BATCH_SIZE,\n",
        "    labels = 'inferred',\n",
        "    label_mode = 'categorical',\n",
        "    shuffle = True,\n",
        "    seed = 123)\n",
        "\n",
        "    return test_generator\n",
        "\n",
        "#model.py\n",
        "from tensorflow.keras import Sequential, layers\n",
        "from tensorflow.keras.applications.densenet import DenseNet121\n",
        "\n",
        "def build_compile_model():\n",
        "\n",
        "    # DenseNet121 Base Model\n",
        "    base_model = DenseNet121(include_top=False, weights='imagenet', input_shape=INPUT_SHAPE)\n",
        "    base_model.trainable = False\n",
        "\n",
        "    # Base Model + Trainable Layers\n",
        "    model = Sequential()\n",
        "    model.add(base_model)\n",
        "    model.add(layers.Flatten())\n",
        "    model.add(layers.Dense(50, activation='relu'))\n",
        "    model.add(layers.Dense(4, activation='softmax'))\n",
        "    model.compile(optimizer='adam', loss='categorical_crossentropy', metrics=METRICS)\n",
        "\n",
        "    return model\n",
        "\n",
        "#params.py\n",
        "import tensorflow as tf\n",
        "\n",
        "### MODEL PARAMETERS ###\n",
        "AUTOTUNE = tf.data.experimental.AUTOTUNE\n",
        "BATCH_SIZE = 32\n",
        "IMAGE_SIZE = (224, 224)\n",
        "EPOCHS = 100\n",
        "INPUT_SHAPE = (224, 224, 3)\n",
        "METRICS = ['AUC', 'accuracy', 'Recall', 'Precision']\n",
        "\n",
        "\n",
        "#preprocess.py\n",
        "\n",
        "### GCP DATA STORAGE ###\n",
        "\n",
        "BUCKET_NAME = 'alzheimers-project-699'\n",
        "BUCKET_TRAIN_DATA_PATH = 'data/AlzheimersDataset/train'\n",
        "STORAGE_LOCATION = 'models/model.joblib'\n",
        "\n",
        "import numpy as np\n",
        "import tensorflow as tf\n",
        "\n",
        "def augment(img, label):\n",
        "    img = tf.image.random_brightness(\n",
        "        img, 0.2, seed=123\n",
        "    )\n",
        "    \n",
        "    img = tf.image.stateless_random_contrast(\n",
        "        img, 0.2, 0.5, seed=(1,2)\n",
        "    )\n",
        "        \n",
        "    return img, label\n",
        "\n",
        "def preprocessing(img, label):\n",
        "    img = img / 255\n",
        "    #img = augment(img)\n",
        "    return img, label\n",
        "\n",
        "##trainer.py\n",
        "import tensorflow as tf\n",
        "import joblib\n",
        "import os\n",
        "from tensorflow.keras.callbacks import EarlyStopping, ReduceLROnPlateau\n",
        "from google.cloud import storage\n",
        "\n",
        "\n",
        "class Trainer():\n",
        "    def __init__(self):\n",
        "        self.model = None\n",
        "        self.train_path = None\n",
        "        self.test_path = None\n",
        "        self.train_generator = None\n",
        "        self.validation_generator = None\n",
        "        self.test_generator = None\n",
        "\n",
        "### MODEL PIPELINE ###\n",
        "    #def set_data(self):\n",
        "     #   parent_path = os.path.dirname(os.path.dirname(__file__))\n",
        "      #  train_path = os.path.join(parent_path, 'raw_data/AlzheimersDataset/train')\n",
        "       # test_path = os.path.join(parent_path, 'raw_data/AlzheimersDataset/test')\n",
        "        #self.train_path = train_path\n",
        "        #self.test_path = test_path\n",
        "\n",
        "    def load_data(self):\n",
        "        # Get and preprocess data\n",
        "        self.train_generator, self.validation_generator = train_data_loading('/content/drive/MyDrive/LeWagon/AlzheimersDataset/train')\n",
        "        self.test_generator = test_data_loading('/content/drive/MyDrive/LeWagon/AlzheimersDataset/test')\n",
        "\n",
        "    def set_model(self):\n",
        "        # Autotune the process\n",
        "        AUTOTUNE = tf.data.experimental.AUTOTUNE\n",
        "\n",
        "        self.train_generator = self.train_generator.map(preprocessing, num_parallel_calls=AUTOTUNE)\n",
        "        self.train_generator = self.train_generator.map(augment, num_parallel_calls=AUTOTUNE)\n",
        "        self.validation_generator = self.validation_generator.map(preprocessing, num_parallel_calls=AUTOTUNE)\n",
        "        self.test_generator = self.test_generator.map(preprocessing, num_parallel_calls=AUTOTUNE)\n",
        "\n",
        "        self.train_generator = self.train_generator.cache().prefetch(buffer_size=AUTOTUNE)\n",
        "        self.validation_generator = self.validation_generator.cache().prefetch(buffer_size=AUTOTUNE)\n",
        "        self.test_generator = self.test_generator.cache().prefetch(buffer_size=AUTOTUNE)\n",
        "        \n",
        "        ######sel.train_generator\n",
        "\n",
        "        self.model = build_compile_model()\n",
        "        return self.model\n",
        "\n",
        "    def fit_model(self):\n",
        "        if self.model == None:\n",
        "            self.set_model()\n",
        "        es = EarlyStopping(patience=10, restore_best_weights=True)\n",
        "        rop = ReduceLROnPlateau(monitor='val_loss', factor=0.005, patience=10, min_lr=0.005)\n",
        "        self.model.fit(self.train_generator, validation_data=self.validation_generator, epochs=50, callbacks=[es, rop], verbose=1)\n",
        "\n",
        "\n",
        "    def evaluate(self):\n",
        "        \"\"\"evaluates the model on test set and returns the Loss, AUC, Accuracy, Recall and Precision\"\"\"\n",
        "        test_scores = self.model.evaluate(self.test_generator)\n",
        "        scores_dict = {'Loss': test_scores[0],\n",
        "                       'AUC': test_scores[1],\n",
        "                       'Accuracy': test_scores[2],\n",
        "                       'Recall': test_scores[3],\n",
        "                       'Precision': test_scores[4]}\n",
        "        return scores_dict\n",
        "\n",
        "\n",
        "### SAVE MODEL TO GCP ###\n",
        "    def save_model(self):\n",
        "        \"\"\" Save the trained model into a model.joblib file \"\"\"\n",
        "        joblib.dump(self.pipeline, 'model.joblib')\n",
        "        client = storage.Client()\n",
        "        bucket = client.bucket(BUCKET_NAME)\n",
        "        blob = bucket.blob(STORAGE_LOCATION)\n",
        "        blob.upload_from_filename('model.joblib')\n",
        "        print(f\"uploaded model.joblib to gcp cloud storage under \\n => {STORAGE_LOCATION}\")\n",
        "\n",
        "\n",
        "    # Train model and save to gcp\n",
        "\n",
        "\n"
      ],
      "id": "3743a75b",
      "execution_count": null,
      "outputs": []
    },
    {
      "cell_type": "code",
      "metadata": {
        "id": "PrSSutWSe89O"
      },
      "source": [
        "img = '/content/drive/MyDrive/LeWagon/AlzheimersDataset/train/MildDemented/mildDem0.jpg'"
      ],
      "id": "PrSSutWSe89O",
      "execution_count": null,
      "outputs": []
    },
    {
      "cell_type": "code",
      "metadata": {
        "colab": {
          "base_uri": "https://localhost:8080/"
        },
        "id": "B2CitHBDfP8W",
        "outputId": "007c9387-1902-49eb-fd9a-b1cb75d90c6c"
      },
      "source": [
        "import PIL\n",
        "\n",
        "example=PIL.Image.open(img)\n",
        "\n",
        "exp=np.asarray(example)\n",
        "exp=exp[np.newaxis,np.newaxis,:]\n",
        "exp.shape"
      ],
      "id": "B2CitHBDfP8W",
      "execution_count": null,
      "outputs": [
        {
          "output_type": "execute_result",
          "data": {
            "text/plain": [
              "(1, 1, 208, 176)"
            ]
          },
          "metadata": {},
          "execution_count": 68
        }
      ]
    },
    {
      "cell_type": "code",
      "metadata": {
        "id": "YWj48rH7gaCV"
      },
      "source": [
        "def test(img):\n",
        "  img=img/2,\n",
        "  return img"
      ],
      "id": "YWj48rH7gaCV",
      "execution_count": null,
      "outputs": []
    },
    {
      "cell_type": "code",
      "metadata": {
        "colab": {
          "base_uri": "https://localhost:8080/",
          "height": 166
        },
        "id": "ZqNuRPfRlK1i",
        "outputId": "051506cc-2127-49f1-c87c-71340bd9c9e0"
      },
      "source": [
        "test(exp).shape"
      ],
      "id": "ZqNuRPfRlK1i",
      "execution_count": null,
      "outputs": [
        {
          "output_type": "error",
          "ename": "AttributeError",
          "evalue": "ignored",
          "traceback": [
            "\u001b[0;31m---------------------------------------------------------------------------\u001b[0m",
            "\u001b[0;31mAttributeError\u001b[0m                            Traceback (most recent call last)",
            "\u001b[0;32m<ipython-input-91-656ce1a66b27>\u001b[0m in \u001b[0;36m<module>\u001b[0;34m()\u001b[0m\n\u001b[0;32m----> 1\u001b[0;31m \u001b[0mtest\u001b[0m\u001b[0;34m(\u001b[0m\u001b[0mexp\u001b[0m\u001b[0;34m)\u001b[0m\u001b[0;34m.\u001b[0m\u001b[0mshape\u001b[0m\u001b[0;34m\u001b[0m\u001b[0;34m\u001b[0m\u001b[0m\n\u001b[0m",
            "\u001b[0;31mAttributeError\u001b[0m: 'tuple' object has no attribute 'shape'"
          ]
        }
      ]
    },
    {
      "cell_type": "code",
      "metadata": {
        "colab": {
          "base_uri": "https://localhost:8080/"
        },
        "id": "_EMDM2FFUhzG",
        "outputId": "fac6ad79-1881-47c8-e703-127598c762ee"
      },
      "source": [
        "t = Trainer()\n",
        "\n",
        "t.load_data()\n",
        "t.set_model()\n",
        "t.fit_model()\n",
        "t.evaluate()"
      ],
      "id": "_EMDM2FFUhzG",
      "execution_count": null,
      "outputs": [
        {
          "output_type": "stream",
          "name": "stdout",
          "text": [
            "Found 5121 files belonging to 4 classes.\n",
            "Using 4097 files for training.\n",
            "Found 5121 files belonging to 4 classes.\n",
            "Using 1024 files for validation.\n",
            "Found 1279 files belonging to 4 classes.\n",
            "Epoch 1/50\n",
            "129/129 [==============================] - 363s 3s/step - loss: 2.6635 - auc: 0.7946 - accuracy: 0.5794 - recall: 0.5555 - precision: 0.5927 - val_loss: 1.5891 - val_auc: 0.7908 - val_accuracy: 0.4619 - val_recall: 0.4443 - val_precision: 0.4591\n",
            "Epoch 2/50\n",
            "129/129 [==============================] - 37s 284ms/step - loss: 0.8574 - auc: 0.8995 - accuracy: 0.6981 - recall: 0.6717 - precision: 0.7184 - val_loss: 1.6585 - val_auc: 0.7609 - val_accuracy: 0.5928 - val_recall: 0.5674 - val_precision: 0.6434\n",
            "Epoch 3/50\n",
            "129/129 [==============================] - 37s 284ms/step - loss: 0.6698 - auc: 0.9338 - accuracy: 0.7693 - recall: 0.7520 - precision: 0.7832 - val_loss: 0.6154 - val_auc: 0.9378 - val_accuracy: 0.7812 - val_recall: 0.7559 - val_precision: 0.8012\n",
            "Epoch 4/50\n",
            "129/129 [==============================] - 37s 284ms/step - loss: 0.4140 - auc: 0.9692 - accuracy: 0.8433 - recall: 0.8309 - precision: 0.8561 - val_loss: 0.5452 - val_auc: 0.9504 - val_accuracy: 0.7998 - val_recall: 0.7832 - val_precision: 0.8192\n",
            "Epoch 5/50\n",
            "129/129 [==============================] - 37s 284ms/step - loss: 0.3224 - auc: 0.9807 - accuracy: 0.8799 - recall: 0.8687 - precision: 0.8913 - val_loss: 1.9605 - val_auc: 0.7935 - val_accuracy: 0.6270 - val_recall: 0.6152 - val_precision: 0.6344\n",
            "Epoch 6/50\n",
            "129/129 [==============================] - 37s 284ms/step - loss: 0.3361 - auc: 0.9790 - accuracy: 0.8828 - recall: 0.8758 - precision: 0.8914 - val_loss: 0.7258 - val_auc: 0.9304 - val_accuracy: 0.7637 - val_recall: 0.7520 - val_precision: 0.7825\n",
            "Epoch 7/50\n",
            "129/129 [==============================] - 37s 283ms/step - loss: 0.6183 - auc: 0.9501 - accuracy: 0.8167 - recall: 0.8094 - precision: 0.8261 - val_loss: 0.6241 - val_auc: 0.9468 - val_accuracy: 0.8037 - val_recall: 0.7871 - val_precision: 0.8199\n",
            "Epoch 8/50\n",
            "129/129 [==============================] - 37s 283ms/step - loss: 0.3514 - auc: 0.9777 - accuracy: 0.8848 - recall: 0.8789 - precision: 0.8885 - val_loss: 2.1971 - val_auc: 0.7983 - val_accuracy: 0.6318 - val_recall: 0.6270 - val_precision: 0.6407\n",
            "Epoch 9/50\n",
            "129/129 [==============================] - 37s 284ms/step - loss: 0.2315 - auc: 0.9896 - accuracy: 0.9153 - recall: 0.9114 - precision: 0.9202 - val_loss: 2.2629 - val_auc: 0.8111 - val_accuracy: 0.6406 - val_recall: 0.6338 - val_precision: 0.6471\n",
            "Epoch 10/50\n",
            "129/129 [==============================] - 36s 283ms/step - loss: 0.2924 - auc: 0.9834 - accuracy: 0.9007 - recall: 0.8968 - precision: 0.9040 - val_loss: 2.0635 - val_auc: 0.8307 - val_accuracy: 0.6582 - val_recall: 0.6504 - val_precision: 0.6581\n",
            "Epoch 11/50\n",
            "129/129 [==============================] - 37s 284ms/step - loss: 0.6321 - auc: 0.9558 - accuracy: 0.8355 - recall: 0.8309 - precision: 0.8395 - val_loss: 1.2740 - val_auc: 0.8917 - val_accuracy: 0.7256 - val_recall: 0.7236 - val_precision: 0.7272\n",
            "Epoch 12/50\n",
            "129/129 [==============================] - 37s 283ms/step - loss: 0.4262 - auc: 0.9721 - accuracy: 0.8994 - recall: 0.8958 - precision: 0.9031 - val_loss: 1.2366 - val_auc: 0.8907 - val_accuracy: 0.6641 - val_recall: 0.6641 - val_precision: 0.6673\n",
            "Epoch 13/50\n",
            "129/129 [==============================] - 37s 284ms/step - loss: 0.1982 - auc: 0.9919 - accuracy: 0.9231 - recall: 0.9202 - precision: 0.9277 - val_loss: 0.6981 - val_auc: 0.9431 - val_accuracy: 0.7930 - val_recall: 0.7852 - val_precision: 0.8024\n",
            "Epoch 14/50\n",
            "129/129 [==============================] - 36s 283ms/step - loss: 0.1316 - auc: 0.9966 - accuracy: 0.9539 - recall: 0.9505 - precision: 0.9565 - val_loss: 0.7576 - val_auc: 0.9352 - val_accuracy: 0.7715 - val_recall: 0.7637 - val_precision: 0.7797\n",
            "40/40 [==============================] - 120s 2s/step - loss: 1.0147 - auc: 0.8718 - accuracy: 0.6325 - recall: 0.6138 - precision: 0.6456\n"
          ]
        },
        {
          "output_type": "execute_result",
          "data": {
            "text/plain": [
              "{'AUC': 0.8717904686927795,\n",
              " 'Accuracy': 0.6325253844261169,\n",
              " 'Loss': 1.0146764516830444,\n",
              " 'Precision': 0.6455591917037964,\n",
              " 'Recall': 0.613760769367218}"
            ]
          },
          "metadata": {},
          "execution_count": 95
        }
      ]
    },
    {
      "cell_type": "code",
      "metadata": {
        "id": "3AbBVWVAUaWk"
      },
      "source": [
        "x,y=next(iter(t.train_generator))"
      ],
      "id": "3AbBVWVAUaWk",
      "execution_count": null,
      "outputs": []
    },
    {
      "cell_type": "code",
      "metadata": {
        "colab": {
          "base_uri": "https://localhost:8080/"
        },
        "id": "6cqoTRN5i2LR",
        "outputId": "c521ae0f-e9f7-4f34-f06b-c9ef7cfa2000"
      },
      "source": [
        "x.shape"
      ],
      "id": "6cqoTRN5i2LR",
      "execution_count": null,
      "outputs": [
        {
          "output_type": "execute_result",
          "data": {
            "text/plain": [
              "TensorShape([32, 224, 224, 3])"
            ]
          },
          "metadata": {},
          "execution_count": 81
        }
      ]
    },
    {
      "cell_type": "code",
      "metadata": {
        "colab": {
          "base_uri": "https://localhost:8080/"
        },
        "id": "qyjkcQSujLIJ",
        "outputId": "34013fc2-d354-48ac-9375-d5f5e94cdeab"
      },
      "source": [
        "x[0]"
      ],
      "id": "qyjkcQSujLIJ",
      "execution_count": null,
      "outputs": [
        {
          "output_type": "execute_result",
          "data": {
            "text/plain": [
              "<tf.Tensor: shape=(224, 224, 3), dtype=float32, numpy=\n",
              "array([[[-0.02682621, -0.02682621, -0.02682621],\n",
              "        [-0.02682621, -0.02682621, -0.02682621],\n",
              "        [-0.02682621, -0.02682621, -0.02682621],\n",
              "        ...,\n",
              "        [-0.02682621, -0.02682621, -0.02682621],\n",
              "        [-0.02682621, -0.02682621, -0.02682621],\n",
              "        [-0.02682621, -0.02682621, -0.02682621]],\n",
              "\n",
              "       [[-0.02682621, -0.02682621, -0.02682621],\n",
              "        [-0.02682621, -0.02682621, -0.02682621],\n",
              "        [-0.02682621, -0.02682621, -0.02682621],\n",
              "        ...,\n",
              "        [-0.02682621, -0.02682621, -0.02682621],\n",
              "        [-0.02682621, -0.02682621, -0.02682621],\n",
              "        [-0.02682621, -0.02682621, -0.02682621]],\n",
              "\n",
              "       [[-0.02682621, -0.02682621, -0.02682621],\n",
              "        [-0.02682621, -0.02682621, -0.02682621],\n",
              "        [-0.02682621, -0.02682621, -0.02682621],\n",
              "        ...,\n",
              "        [-0.02682621, -0.02682621, -0.02682621],\n",
              "        [-0.02682621, -0.02682621, -0.02682621],\n",
              "        [-0.02682621, -0.02682621, -0.02682621]],\n",
              "\n",
              "       ...,\n",
              "\n",
              "       [[-0.02682621, -0.02682621, -0.02682621],\n",
              "        [-0.02682621, -0.02682621, -0.02682621],\n",
              "        [-0.02682621, -0.02682621, -0.02682621],\n",
              "        ...,\n",
              "        [-0.02682621, -0.02682621, -0.02682621],\n",
              "        [-0.02682621, -0.02682621, -0.02682621],\n",
              "        [-0.02682621, -0.02682621, -0.02682621]],\n",
              "\n",
              "       [[-0.02682621, -0.02682621, -0.02682621],\n",
              "        [-0.02682621, -0.02682621, -0.02682621],\n",
              "        [-0.02682621, -0.02682621, -0.02682621],\n",
              "        ...,\n",
              "        [-0.02682621, -0.02682621, -0.02682621],\n",
              "        [-0.02682621, -0.02682621, -0.02682621],\n",
              "        [-0.02682621, -0.02682621, -0.02682621]],\n",
              "\n",
              "       [[-0.02682621, -0.02682621, -0.02682621],\n",
              "        [-0.02682621, -0.02682621, -0.02682621],\n",
              "        [-0.02682621, -0.02682621, -0.02682621],\n",
              "        ...,\n",
              "        [-0.02682621, -0.02682621, -0.02682621],\n",
              "        [-0.02682621, -0.02682621, -0.02682621],\n",
              "        [-0.02682621, -0.02682621, -0.02682621]]], dtype=float32)>"
            ]
          },
          "metadata": {},
          "execution_count": 82
        }
      ]
    },
    {
      "cell_type": "code",
      "metadata": {
        "id": "sbgvJUm-js_K"
      },
      "source": [
        ""
      ],
      "id": "sbgvJUm-js_K",
      "execution_count": null,
      "outputs": []
    }
  ]
}