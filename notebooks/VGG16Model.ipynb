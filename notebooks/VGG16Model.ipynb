{
  "nbformat": 4,
  "nbformat_minor": 5,
  "metadata": {
    "kernelspec": {
      "display_name": "Python 3 (ipykernel)",
      "language": "python",
      "name": "python3"
    },
    "language_info": {
      "codemirror_mode": {
        "name": "ipython",
        "version": 3
      },
      "file_extension": ".py",
      "mimetype": "text/x-python",
      "name": "python",
      "nbconvert_exporter": "python",
      "pygments_lexer": "ipython3",
      "version": "3.8.6"
    },
    "toc": {
      "base_numbering": 1,
      "nav_menu": {},
      "number_sections": true,
      "sideBar": true,
      "skip_h1_title": false,
      "title_cell": "Table of Contents",
      "title_sidebar": "Contents",
      "toc_cell": false,
      "toc_position": {},
      "toc_section_display": true,
      "toc_window_display": false
    },
    "colab": {
      "name": "ConfusionMatrix VGG16.ipynb",
      "provenance": [],
      "collapsed_sections": [],
      "machine_shape": "hm"
    },
    "accelerator": "GPU"
  },
  "cells": [
    {
      "cell_type": "code",
      "metadata": {
        "colab": {
          "base_uri": "https://localhost:8080/"
        },
        "id": "oy4VW1Y1EraO",
        "outputId": "4cfbc585-eb0b-4cd0-bb53-f4b0060b5751"
      },
      "source": [
        "from google.colab import drive\n",
        "drive.mount('/content/drive/')"
      ],
      "id": "oy4VW1Y1EraO",
      "execution_count": null,
      "outputs": [
        {
          "output_type": "stream",
          "name": "stdout",
          "text": [
            "Drive already mounted at /content/drive/; to attempt to forcibly remount, call drive.mount(\"/content/drive/\", force_remount=True).\n"
          ]
        }
      ]
    },
    {
      "cell_type": "code",
      "metadata": {
        "id": "f9fe8b09"
      },
      "source": [
        "import pandas as pd\n",
        "import numpy as np\n",
        "import matplotlib.pyplot as plt\n",
        "from tensorflow.keras.preprocessing.image import ImageDataGenerator\n",
        "from tensorflow.keras import Sequential, layers\n",
        "from tensorflow.keras.callbacks import EarlyStopping\n",
        "from sklearn.metrics import confusion_matrix\n",
        "from sklearn.metrics import ConfusionMatrixDisplay\n",
        "from sklearn.metrics import classification_report\n",
        "from tensorflow.keras.applications.vgg16 import VGG16\n",
        "import tensorflow as tf\n",
        "import seaborn as sns\n",
        "from tensorflow.keras.applications import DenseNet121"
      ],
      "id": "f9fe8b09",
      "execution_count": null,
      "outputs": []
    },
    {
      "cell_type": "code",
      "metadata": {
        "colab": {
          "base_uri": "https://localhost:8080/"
        },
        "id": "e59ddcb4",
        "outputId": "eeab95a3-a3f0-41dd-c899-ea8a0ac48ed4"
      },
      "source": [
        "datagen = ImageDataGenerator(\n",
        "    rescale = 1./255, \n",
        "    # rotation_range = 5,\n",
        "    # zoom_range = (0.90, 0.90),\n",
        "    # brightness_range = (0.95, 0.95),\n",
        "    # horizontal_flip = True,\n",
        "    # vertical_flip = True,\n",
        "    data_format = 'channels_last',\n",
        "    validation_split = 0.2,\n",
        "    dtype = tf.bfloat16\n",
        ")\n",
        "\n",
        "train_generator = datagen.flow_from_directory(\n",
        "    '/content/drive/MyDrive/AlzheimersDataset/train',\n",
        "    target_size = (224, 224),\n",
        "    batch_size = (32),\n",
        "    class_mode = 'categorical',\n",
        "    shuffle = True,\n",
        "    subset = 'training',\n",
        "    seed = 123\n",
        ")\n",
        "\n",
        "validation_generator = datagen.flow_from_directory(\n",
        "    '/content/drive/MyDrive/AlzheimersDataset/train',\n",
        "    target_size = (224, 224),\n",
        "    batch_size = (32),\n",
        "    class_mode = 'categorical',\n",
        "    shuffle = True,\n",
        "    subset = 'validation',\n",
        "    seed = 123\n",
        ")"
      ],
      "id": "e59ddcb4",
      "execution_count": null,
      "outputs": [
        {
          "output_type": "stream",
          "name": "stdout",
          "text": [
            "Found 4098 images belonging to 4 classes.\n",
            "Found 1023 images belonging to 4 classes.\n"
          ]
        }
      ]
    },
    {
      "cell_type": "code",
      "metadata": {
        "colab": {
          "base_uri": "https://localhost:8080/"
        },
        "id": "d1pbzcfIeSBY",
        "outputId": "cd90b0f3-4d8a-4732-cbd2-09395a136612"
      },
      "source": [
        "datagen2 = ImageDataGenerator(\n",
        "    rescale = 1./255, \n",
        "    rotation_range = 5,\n",
        "    zoom_range = (0.90, 0.90),\n",
        "    brightness_range = (0.95, 0.95),\n",
        "    horizontal_flip = True,\n",
        "    vertical_flip = True,\n",
        "    data_format = 'channels_last',\n",
        "    validation_split = 0.0,\n",
        "    dtype = float\n",
        ")\n",
        "\n",
        "test_generator = datagen2.flow_from_directory(\n",
        "    '/content/drive/MyDrive/AlzheimersDataset/test',\n",
        "    target_size = (224, 224),\n",
        "    batch_size = (4),\n",
        "    class_mode = 'categorical',\n",
        "    shuffle = True,\n",
        "    subset = 'training',\n",
        "    seed = 123\n",
        ")"
      ],
      "id": "d1pbzcfIeSBY",
      "execution_count": null,
      "outputs": [
        {
          "output_type": "stream",
          "name": "stdout",
          "text": [
            "Found 1279 images belonging to 4 classes.\n"
          ]
        }
      ]
    },
    {
      "cell_type": "code",
      "metadata": {
        "id": "59650f81"
      },
      "source": [
        "base_model = VGG16(include_top=False, input_shape=(224, 224, 3), weights='imagenet')\n",
        "base_model.trainable = False"
      ],
      "id": "59650f81",
      "execution_count": null,
      "outputs": []
    },
    {
      "cell_type": "code",
      "metadata": {
        "id": "DlHgKE8ftux2"
      },
      "source": [
        "base_model.trainable = False"
      ],
      "id": "DlHgKE8ftux2",
      "execution_count": null,
      "outputs": []
    },
    {
      "cell_type": "code",
      "metadata": {
        "colab": {
          "base_uri": "https://localhost:8080/"
        },
        "id": "nv1RBO5ps9te",
        "outputId": "1e57b9d4-87f4-48c2-833a-ed23f695f8ef"
      },
      "source": [
        "base_model.summary()"
      ],
      "id": "nv1RBO5ps9te",
      "execution_count": null,
      "outputs": [
        {
          "output_type": "stream",
          "name": "stdout",
          "text": [
            "Model: \"vgg16\"\n",
            "_________________________________________________________________\n",
            "Layer (type)                 Output Shape              Param #   \n",
            "=================================================================\n",
            "input_1 (InputLayer)         [(None, 224, 224, 3)]     0         \n",
            "_________________________________________________________________\n",
            "block1_conv1 (Conv2D)        (None, 224, 224, 64)      1792      \n",
            "_________________________________________________________________\n",
            "block1_conv2 (Conv2D)        (None, 224, 224, 64)      36928     \n",
            "_________________________________________________________________\n",
            "block1_pool (MaxPooling2D)   (None, 112, 112, 64)      0         \n",
            "_________________________________________________________________\n",
            "block2_conv1 (Conv2D)        (None, 112, 112, 128)     73856     \n",
            "_________________________________________________________________\n",
            "block2_conv2 (Conv2D)        (None, 112, 112, 128)     147584    \n",
            "_________________________________________________________________\n",
            "block2_pool (MaxPooling2D)   (None, 56, 56, 128)       0         \n",
            "_________________________________________________________________\n",
            "block3_conv1 (Conv2D)        (None, 56, 56, 256)       295168    \n",
            "_________________________________________________________________\n",
            "block3_conv2 (Conv2D)        (None, 56, 56, 256)       590080    \n",
            "_________________________________________________________________\n",
            "block3_conv3 (Conv2D)        (None, 56, 56, 256)       590080    \n",
            "_________________________________________________________________\n",
            "block3_pool (MaxPooling2D)   (None, 28, 28, 256)       0         \n",
            "_________________________________________________________________\n",
            "block4_conv1 (Conv2D)        (None, 28, 28, 512)       1180160   \n",
            "_________________________________________________________________\n",
            "block4_conv2 (Conv2D)        (None, 28, 28, 512)       2359808   \n",
            "_________________________________________________________________\n",
            "block4_conv3 (Conv2D)        (None, 28, 28, 512)       2359808   \n",
            "_________________________________________________________________\n",
            "block4_pool (MaxPooling2D)   (None, 14, 14, 512)       0         \n",
            "_________________________________________________________________\n",
            "block5_conv1 (Conv2D)        (None, 14, 14, 512)       2359808   \n",
            "_________________________________________________________________\n",
            "block5_conv2 (Conv2D)        (None, 14, 14, 512)       2359808   \n",
            "_________________________________________________________________\n",
            "block5_conv3 (Conv2D)        (None, 14, 14, 512)       2359808   \n",
            "_________________________________________________________________\n",
            "block5_pool (MaxPooling2D)   (None, 7, 7, 512)         0         \n",
            "=================================================================\n",
            "Total params: 14,714,688\n",
            "Trainable params: 0\n",
            "Non-trainable params: 14,714,688\n",
            "_________________________________________________________________\n"
          ]
        }
      ]
    },
    {
      "cell_type": "code",
      "metadata": {
        "id": "09848227"
      },
      "source": [
        "model = Sequential()\n",
        "model.add(base_model)\n",
        "model.add(layers.Flatten())\n",
        "model.add(layers.Dense(50, activation='relu'))\n",
        "model.add(layers.Dense(4, activation='softmax'))"
      ],
      "id": "09848227",
      "execution_count": null,
      "outputs": []
    },
    {
      "cell_type": "code",
      "metadata": {
        "colab": {
          "base_uri": "https://localhost:8080/"
        },
        "id": "DILJ817at7D4",
        "outputId": "e9e7f2b5-b2ac-4652-e09a-7c6a8329dda3"
      },
      "source": [
        "model.layers"
      ],
      "id": "DILJ817at7D4",
      "execution_count": null,
      "outputs": [
        {
          "output_type": "execute_result",
          "data": {
            "text/plain": [
              "[<keras.engine.functional.Functional at 0x7f45b0f4e410>,\n",
              " <keras.layers.core.Flatten at 0x7f45b0f87d10>,\n",
              " <keras.layers.core.Dense at 0x7f45b0f9a050>,\n",
              " <keras.layers.core.Dense at 0x7f45b1427810>]"
            ]
          },
          "metadata": {},
          "execution_count": 9
        }
      ]
    },
    {
      "cell_type": "code",
      "metadata": {
        "id": "003bcfb6"
      },
      "source": [
        "model.compile(optimizer='adam', loss='categorical_crossentropy', metrics=['AUC', 'accuracy', 'Recall', 'Precision'])"
      ],
      "id": "003bcfb6",
      "execution_count": null,
      "outputs": []
    },
    {
      "cell_type": "code",
      "metadata": {
        "id": "951f059d"
      },
      "source": [
        "es = EarlyStopping(patience=10, restore_best_weights=True)"
      ],
      "id": "951f059d",
      "execution_count": null,
      "outputs": []
    },
    {
      "cell_type": "code",
      "metadata": {
        "colab": {
          "base_uri": "https://localhost:8080/"
        },
        "id": "32f76cd7",
        "outputId": "6cc8b5d9-1b24-4531-d0f8-4eb40fef6e32"
      },
      "source": [
        "history = model.fit(train_generator, validation_data=validation_generator, epochs=100, callbacks=[es])"
      ],
      "id": "32f76cd7",
      "execution_count": null,
      "outputs": [
        {
          "output_type": "stream",
          "name": "stdout",
          "text": [
            "Epoch 1/100\n",
            "129/129 [==============================] - 34s 198ms/step - loss: 0.9582 - auc: 0.8569 - accuracy: 0.6118 - recall: 0.5361 - precision: 0.6537 - val_loss: 1.0484 - val_auc: 0.7956 - val_accuracy: 0.4936 - val_recall: 0.3920 - val_precision: 0.5616\n",
            "Epoch 2/100\n",
            "129/129 [==============================] - 19s 146ms/step - loss: 0.5615 - auc: 0.9475 - accuracy: 0.7775 - recall: 0.7184 - precision: 0.8201 - val_loss: 1.0614 - val_auc: 0.8034 - val_accuracy: 0.5103 - val_recall: 0.4096 - val_precision: 0.5860\n",
            "Epoch 3/100\n",
            "129/129 [==============================] - 19s 148ms/step - loss: 0.4824 - auc: 0.9614 - accuracy: 0.8114 - recall: 0.7609 - precision: 0.8473 - val_loss: 0.9441 - val_auc: 0.8401 - val_accuracy: 0.5670 - val_recall: 0.4761 - val_precision: 0.6118\n",
            "Epoch 4/100\n",
            "129/129 [==============================] - 19s 150ms/step - loss: 0.3703 - auc: 0.9797 - accuracy: 0.8721 - recall: 0.8380 - precision: 0.8985 - val_loss: 0.9610 - val_auc: 0.8436 - val_accuracy: 0.5611 - val_recall: 0.5034 - val_precision: 0.5961\n",
            "Epoch 5/100\n",
            "129/129 [==============================] - 20s 152ms/step - loss: 0.2924 - auc: 0.9887 - accuracy: 0.9080 - recall: 0.8804 - precision: 0.9266 - val_loss: 0.9563 - val_auc: 0.8546 - val_accuracy: 0.5806 - val_recall: 0.5327 - val_precision: 0.6110\n",
            "Epoch 6/100\n",
            "129/129 [==============================] - 20s 153ms/step - loss: 0.2229 - auc: 0.9941 - accuracy: 0.9363 - recall: 0.9204 - precision: 0.9473 - val_loss: 0.9505 - val_auc: 0.8558 - val_accuracy: 0.5904 - val_recall: 0.5425 - val_precision: 0.6250\n",
            "Epoch 7/100\n",
            "129/129 [==============================] - 20s 152ms/step - loss: 0.1711 - auc: 0.9973 - accuracy: 0.9571 - recall: 0.9480 - precision: 0.9647 - val_loss: 0.8385 - val_auc: 0.8894 - val_accuracy: 0.6637 - val_recall: 0.6295 - val_precision: 0.6779\n",
            "Epoch 8/100\n",
            "129/129 [==============================] - 20s 153ms/step - loss: 0.1485 - auc: 0.9978 - accuracy: 0.9617 - recall: 0.9573 - precision: 0.9658 - val_loss: 0.9382 - val_auc: 0.8680 - val_accuracy: 0.6070 - val_recall: 0.5816 - val_precision: 0.6405\n",
            "Epoch 9/100\n",
            "129/129 [==============================] - 20s 154ms/step - loss: 0.1372 - auc: 0.9973 - accuracy: 0.9622 - recall: 0.9585 - precision: 0.9663 - val_loss: 1.0036 - val_auc: 0.8708 - val_accuracy: 0.6119 - val_recall: 0.5982 - val_precision: 0.6316\n",
            "Epoch 10/100\n",
            "129/129 [==============================] - 20s 155ms/step - loss: 0.1013 - auc: 0.9991 - accuracy: 0.9749 - recall: 0.9722 - precision: 0.9781 - val_loss: 0.8807 - val_auc: 0.8888 - val_accuracy: 0.6628 - val_recall: 0.6442 - val_precision: 0.6787\n",
            "Epoch 11/100\n",
            "129/129 [==============================] - 20s 156ms/step - loss: 0.0638 - auc: 0.9999 - accuracy: 0.9937 - recall: 0.9927 - precision: 0.9956 - val_loss: 0.9202 - val_auc: 0.8893 - val_accuracy: 0.6657 - val_recall: 0.6520 - val_precision: 0.6758\n",
            "Epoch 12/100\n",
            "129/129 [==============================] - 20s 154ms/step - loss: 0.0476 - auc: 1.0000 - accuracy: 0.9978 - recall: 0.9978 - precision: 0.9983 - val_loss: 0.8898 - val_auc: 0.8909 - val_accuracy: 0.6716 - val_recall: 0.6442 - val_precision: 0.6857\n",
            "Epoch 13/100\n",
            "129/129 [==============================] - 20s 155ms/step - loss: 0.0387 - auc: 1.0000 - accuracy: 0.9985 - recall: 0.9980 - precision: 0.9990 - val_loss: 0.8350 - val_auc: 0.9065 - val_accuracy: 0.6872 - val_recall: 0.6725 - val_precision: 0.6964\n",
            "Epoch 14/100\n",
            "129/129 [==============================] - 20s 155ms/step - loss: 0.0307 - auc: 1.0000 - accuracy: 0.9998 - recall: 0.9998 - precision: 0.9998 - val_loss: 0.9430 - val_auc: 0.8883 - val_accuracy: 0.6696 - val_recall: 0.6510 - val_precision: 0.6782\n",
            "Epoch 15/100\n",
            "129/129 [==============================] - 20s 156ms/step - loss: 0.0252 - auc: 1.0000 - accuracy: 0.9998 - recall: 0.9998 - precision: 0.9998 - val_loss: 0.9113 - val_auc: 0.9010 - val_accuracy: 0.6843 - val_recall: 0.6745 - val_precision: 0.6977\n",
            "Epoch 16/100\n",
            "129/129 [==============================] - 20s 156ms/step - loss: 0.0262 - auc: 1.0000 - accuracy: 0.9998 - recall: 0.9998 - precision: 0.9998 - val_loss: 0.9965 - val_auc: 0.8945 - val_accuracy: 0.6667 - val_recall: 0.6588 - val_precision: 0.6720\n",
            "Epoch 17/100\n",
            "129/129 [==============================] - 20s 156ms/step - loss: 0.0223 - auc: 1.0000 - accuracy: 0.9998 - recall: 0.9995 - precision: 0.9998 - val_loss: 0.8986 - val_auc: 0.9030 - val_accuracy: 0.6911 - val_recall: 0.6804 - val_precision: 0.6981\n",
            "Epoch 18/100\n",
            "129/129 [==============================] - 20s 156ms/step - loss: 0.0222 - auc: 1.0000 - accuracy: 0.9988 - recall: 0.9983 - precision: 0.9988 - val_loss: 0.9171 - val_auc: 0.9015 - val_accuracy: 0.6891 - val_recall: 0.6755 - val_precision: 0.6917\n",
            "Epoch 19/100\n",
            "129/129 [==============================] - 20s 156ms/step - loss: 0.0190 - auc: 1.0000 - accuracy: 0.9988 - recall: 0.9983 - precision: 0.9990 - val_loss: 0.9216 - val_auc: 0.9063 - val_accuracy: 0.7077 - val_recall: 0.6970 - val_precision: 0.7180\n",
            "Epoch 20/100\n",
            "129/129 [==============================] - 20s 156ms/step - loss: 0.0114 - auc: 1.0000 - accuracy: 1.0000 - recall: 1.0000 - precision: 1.0000 - val_loss: 0.8982 - val_auc: 0.9074 - val_accuracy: 0.7038 - val_recall: 0.6901 - val_precision: 0.7110\n",
            "Epoch 21/100\n",
            "129/129 [==============================] - 20s 156ms/step - loss: 0.0143 - auc: 1.0000 - accuracy: 0.9995 - recall: 0.9993 - precision: 0.9995 - val_loss: 0.8411 - val_auc: 0.9132 - val_accuracy: 0.7214 - val_recall: 0.7116 - val_precision: 0.7302\n",
            "Epoch 22/100\n",
            "129/129 [==============================] - 20s 157ms/step - loss: 0.0084 - auc: 1.0000 - accuracy: 1.0000 - recall: 1.0000 - precision: 1.0000 - val_loss: 0.9180 - val_auc: 0.9073 - val_accuracy: 0.7019 - val_recall: 0.6901 - val_precision: 0.7103\n",
            "Epoch 23/100\n",
            "129/129 [==============================] - 20s 157ms/step - loss: 0.0071 - auc: 1.0000 - accuracy: 1.0000 - recall: 1.0000 - precision: 1.0000 - val_loss: 0.9401 - val_auc: 0.9055 - val_accuracy: 0.6970 - val_recall: 0.6901 - val_precision: 0.7074\n"
          ]
        }
      ]
    },
    {
      "cell_type": "code",
      "metadata": {
        "colab": {
          "base_uri": "https://localhost:8080/"
        },
        "id": "yOKdBtBrfQwT",
        "outputId": "80f36da9-45ee-4d04-dba0-86eece2003d5"
      },
      "source": [
        "model.evaluate(validation_generator)"
      ],
      "id": "yOKdBtBrfQwT",
      "execution_count": null,
      "outputs": [
        {
          "output_type": "stream",
          "name": "stdout",
          "text": [
            "32/32 [==============================] - 4s 125ms/step - loss: 0.8350 - auc: 0.9065 - accuracy: 0.6872 - recall: 0.6725 - precision: 0.6964\n"
          ]
        },
        {
          "output_type": "execute_result",
          "data": {
            "text/plain": [
              "[0.8349539041519165,\n",
              " 0.9064956307411194,\n",
              " 0.6871945261955261,\n",
              " 0.67253178358078,\n",
              " 0.6963562965393066]"
            ]
          },
          "metadata": {},
          "execution_count": 13
        }
      ]
    },
    {
      "cell_type": "code",
      "metadata": {
        "id": "ojC6Yy4bfw8S"
      },
      "source": [
        "y_pred = model.predict(validation_generator)"
      ],
      "id": "ojC6Yy4bfw8S",
      "execution_count": null,
      "outputs": []
    },
    {
      "cell_type": "code",
      "metadata": {
        "colab": {
          "base_uri": "https://localhost:8080/"
        },
        "id": "G-rIusBgoKGI",
        "outputId": "c0a40b3d-c43e-4f39-9e63-fece078b84be"
      },
      "source": [
        "validation_generator.classes"
      ],
      "id": "G-rIusBgoKGI",
      "execution_count": null,
      "outputs": [
        {
          "output_type": "execute_result",
          "data": {
            "text/plain": [
              "array([0, 0, 0, ..., 3, 3, 3], dtype=int32)"
            ]
          },
          "metadata": {},
          "execution_count": 15
        }
      ]
    },
    {
      "cell_type": "code",
      "metadata": {
        "colab": {
          "base_uri": "https://localhost:8080/"
        },
        "id": "10c832f2",
        "outputId": "06aa9892-2ea5-4d9a-8b37-73f61ffe193c"
      },
      "source": [
        "confusion_matrix(validation_generator.classes, np.argmax(y_pred, axis=1))"
      ],
      "id": "10c832f2",
      "execution_count": null,
      "outputs": [
        {
          "output_type": "execute_result",
          "data": {
            "text/plain": [
              "array([[ 17,   1,  83,  42],\n",
              "       [  0,   0,   5,   5],\n",
              "       [ 53,   4, 298, 157],\n",
              "       [ 33,   2, 205, 118]])"
            ]
          },
          "metadata": {},
          "execution_count": 16
        }
      ]
    },
    {
      "cell_type": "code",
      "metadata": {
        "colab": {
          "base_uri": "https://localhost:8080/"
        },
        "id": "f1F0aN9klyzK",
        "outputId": "4208c5ae-4547-4eda-a904-1e895fe26108"
      },
      "source": [
        "print(classification_report(validation_generator.classes, np.argmax(y_pred, axis=1)))"
      ],
      "id": "f1F0aN9klyzK",
      "execution_count": null,
      "outputs": [
        {
          "output_type": "stream",
          "name": "stdout",
          "text": [
            "              precision    recall  f1-score   support\n",
            "\n",
            "           0       0.17      0.12      0.14       143\n",
            "           1       0.00      0.00      0.00        10\n",
            "           2       0.50      0.58      0.54       512\n",
            "           3       0.37      0.33      0.35       358\n",
            "\n",
            "    accuracy                           0.42      1023\n",
            "   macro avg       0.26      0.26      0.26      1023\n",
            "weighted avg       0.40      0.42      0.41      1023\n",
            "\n"
          ]
        }
      ]
    },
    {
      "cell_type": "code",
      "metadata": {
        "colab": {
          "base_uri": "https://localhost:8080/",
          "height": 444
        },
        "id": "8C8dMDL-o_cR",
        "outputId": "e6e829b5-4305-46be-b541-38cdc380d7d8"
      },
      "source": [
        "CLASSES = [ 'MildDemented',\n",
        "            'ModerateDemented',\n",
        "            'NonDemented',\n",
        "            'VeryMildDemented']\n",
        "\n",
        "conf_arr = confusion_matrix(validation_generator.classes, np.argmax(y_pred, axis=-1))\n",
        "\n",
        "plt.figure(figsize=(8, 6), dpi=80, facecolor='w', edgecolor='k')\n",
        "\n",
        "ax = sns.heatmap(conf_arr, cmap='Greens', annot=True, fmt='d', xticklabels=CLASSES, yticklabels=CLASSES)\n",
        "\n",
        "plt.title('Alzheimer\\'s Disease Diagnosis')\n",
        "plt.xlabel('Prediction')\n",
        "plt.ylabel('Truth')\n",
        "plt.show(ax)"
      ],
      "id": "8C8dMDL-o_cR",
      "execution_count": null,
      "outputs": [
        {
          "output_type": "display_data",
          "data": {
            "image/png": "[encoded data removed]",
            "text/plain": [
              "<Figure size 640x480 with 2 Axes>"
            ]
          },
          "metadata": {}
        }
      ]
    },
    {
      "cell_type": "code",
      "metadata": {
        "id": "KEcVL2_1vdSI"
      },
      "source": [
        ""
      ],
      "id": "KEcVL2_1vdSI",
      "execution_count": null,
      "outputs": []
    }
  ]
}