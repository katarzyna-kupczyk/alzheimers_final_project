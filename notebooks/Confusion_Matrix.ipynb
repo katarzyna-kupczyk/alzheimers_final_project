{
  "nbformat": 4,
  "nbformat_minor": 5,
  "metadata": {
    "kernelspec": {
      "display_name": "Python 3 (ipykernel)",
      "language": "python",
      "name": "python3"
    },
    "language_info": {
      "codemirror_mode": {
        "name": "ipython",
        "version": 3
      },
      "file_extension": ".py",
      "mimetype": "text/x-python",
      "name": "python",
      "nbconvert_exporter": "python",
      "pygments_lexer": "ipython3",
      "version": "3.8.6"
    },
    "toc": {
      "base_numbering": 1,
      "nav_menu": {},
      "number_sections": true,
      "sideBar": true,
      "skip_h1_title": false,
      "title_cell": "Table of Contents",
      "title_sidebar": "Contents",
      "toc_cell": false,
      "toc_position": {},
      "toc_section_display": true,
      "toc_window_display": false
    },
    "colab": {
      "name": "Confusion Matrix.ipynb",
      "provenance": [],
      "machine_shape": "hm"
    },
    "accelerator": "GPU"
  },
  "cells": [
    {
      "cell_type": "code",
      "metadata": {
        "colab": {
          "base_uri": "https://localhost:8080/"
        },
        "id": "oy4VW1Y1EraO",
        "outputId": "9bdbddb4-e1d1-42bb-da3d-9debbd1052ec"
      },
      "source": [
        "from google.colab import drive\n",
        "drive.mount('/content/drive/')"
      ],
      "id": "oy4VW1Y1EraO",
      "execution_count": 1,
      "outputs": [
        {
          "output_type": "stream",
          "name": "stdout",
          "text": [
            "Mounted at /content/drive/\n"
          ]
        }
      ]
    },
    {
      "cell_type": "code",
      "metadata": {
        "id": "f9fe8b09"
      },
      "source": [
        "import pandas as pd\n",
        "import numpy as np\n",
        "import matplotlib.pyplot as plt\n",
        "from tensorflow.keras.preprocessing.image import ImageDataGenerator\n",
        "from tensorflow.keras import Sequential, layers\n",
        "from tensorflow.keras.callbacks import EarlyStopping\n",
        "from sklearn.metrics import confusion_matrix\n",
        "from sklearn.metrics import ConfusionMatrixDisplay\n",
        "from sklearn.metrics import classification_report\n",
        "from tensorflow.keras.applications.vgg19 import VGG19\n",
        "import tensorflow as tf\n",
        "import seaborn as sns"
      ],
      "id": "f9fe8b09",
      "execution_count": 21,
      "outputs": []
    },
    {
      "cell_type": "code",
      "metadata": {
        "colab": {
          "base_uri": "https://localhost:8080/"
        },
        "id": "e59ddcb4",
        "outputId": "2e5cec58-795b-46ff-f7cc-be0a5a292d67"
      },
      "source": [
        "datagen = ImageDataGenerator(\n",
        "    rescale = 1./255, \n",
        "    # rotation_range = 5,\n",
        "    # zoom_range = (0.90, 0.90),\n",
        "    # brightness_range = (0.95, 0.95),\n",
        "    # horizontal_flip = True,\n",
        "    # vertical_flip = True,\n",
        "    data_format = 'channels_last',\n",
        "    validation_split = 0.2,\n",
        "    dtype = tf.bfloat16\n",
        ")\n",
        "\n",
        "train_generator = datagen.flow_from_directory(\n",
        "    '/content/drive/MyDrive/AlzheimersDataLeWagon/AlzheimersDataset/train',\n",
        "    target_size = (224, 224),\n",
        "    batch_size = (32),\n",
        "    class_mode = 'categorical',\n",
        "    shuffle = True,\n",
        "    subset = 'training',\n",
        "    seed = 123\n",
        ")\n",
        "\n",
        "validation_generator = datagen.flow_from_directory(\n",
        "    '/content/drive/MyDrive/AlzheimersDataLeWagon/AlzheimersDataset/train',\n",
        "    target_size = (224, 224),\n",
        "    batch_size = (32),\n",
        "    class_mode = 'categorical',\n",
        "    shuffle = True,\n",
        "    subset = 'validation',\n",
        "    seed = 123\n",
        ")"
      ],
      "id": "e59ddcb4",
      "execution_count": 43,
      "outputs": [
        {
          "output_type": "stream",
          "name": "stdout",
          "text": [
            "Found 4098 images belonging to 4 classes.\n",
            "Found 1023 images belonging to 4 classes.\n"
          ]
        }
      ]
    },
    {
      "cell_type": "code",
      "metadata": {
        "colab": {
          "base_uri": "https://localhost:8080/"
        },
        "id": "d1pbzcfIeSBY",
        "outputId": "bbc74526-7147-4156-e328-29ce454b70ed"
      },
      "source": [
        "datagen2 = ImageDataGenerator(\n",
        "    rescale = 1./255, \n",
        "    rotation_range = 5,\n",
        "    zoom_range = (0.90, 0.90),\n",
        "    brightness_range = (0.95, 0.95),\n",
        "    horizontal_flip = True,\n",
        "    vertical_flip = True,\n",
        "    data_format = 'channels_last',\n",
        "    validation_split = 0.0,\n",
        "    dtype = float\n",
        ")\n",
        "\n",
        "test_generator = datagen2.flow_from_directory(\n",
        "    '/content/drive/MyDrive/AlzheimersDataLeWagon/Test128',\n",
        "    target_size = (224, 224),\n",
        "    batch_size = (4),\n",
        "    class_mode = 'categorical',\n",
        "    shuffle = True,\n",
        "    subset = 'training',\n",
        "    seed = 123\n",
        ")"
      ],
      "id": "d1pbzcfIeSBY",
      "execution_count": 46,
      "outputs": [
        {
          "output_type": "stream",
          "name": "stdout",
          "text": [
            "Found 128 images belonging to 4 classes.\n"
          ]
        }
      ]
    },
    {
      "cell_type": "code",
      "metadata": {
        "id": "59650f81"
      },
      "source": [
        "base_model = VGG19(include_top=False, input_shape=(224, 224, 3), weights='imagenet')\n",
        "base_model.trainable = False"
      ],
      "id": "59650f81",
      "execution_count": 44,
      "outputs": []
    },
    {
      "cell_type": "code",
      "metadata": {
        "id": "DlHgKE8ftux2"
      },
      "source": [
        "base_model.trainable = False"
      ],
      "id": "DlHgKE8ftux2",
      "execution_count": 45,
      "outputs": []
    },
    {
      "cell_type": "code",
      "metadata": {
        "colab": {
          "base_uri": "https://localhost:8080/"
        },
        "id": "nv1RBO5ps9te",
        "outputId": "d9be139b-a474-4f02-c25f-344ac2d11fdf"
      },
      "source": [
        "base_model.summary()"
      ],
      "id": "nv1RBO5ps9te",
      "execution_count": 46,
      "outputs": [
        {
          "output_type": "stream",
          "name": "stdout",
          "text": [
            "Model: \"vgg19\"\n",
            "_________________________________________________________________\n",
            "Layer (type)                 Output Shape              Param #   \n",
            "=================================================================\n",
            "input_3 (InputLayer)         [(None, 224, 224, 3)]     0         \n",
            "_________________________________________________________________\n",
            "block1_conv1 (Conv2D)        (None, 224, 224, 64)      1792      \n",
            "_________________________________________________________________\n",
            "block1_conv2 (Conv2D)        (None, 224, 224, 64)      36928     \n",
            "_________________________________________________________________\n",
            "block1_pool (MaxPooling2D)   (None, 112, 112, 64)      0         \n",
            "_________________________________________________________________\n",
            "block2_conv1 (Conv2D)        (None, 112, 112, 128)     73856     \n",
            "_________________________________________________________________\n",
            "block2_conv2 (Conv2D)        (None, 112, 112, 128)     147584    \n",
            "_________________________________________________________________\n",
            "block2_pool (MaxPooling2D)   (None, 56, 56, 128)       0         \n",
            "_________________________________________________________________\n",
            "block3_conv1 (Conv2D)        (None, 56, 56, 256)       295168    \n",
            "_________________________________________________________________\n",
            "block3_conv2 (Conv2D)        (None, 56, 56, 256)       590080    \n",
            "_________________________________________________________________\n",
            "block3_conv3 (Conv2D)        (None, 56, 56, 256)       590080    \n",
            "_________________________________________________________________\n",
            "block3_conv4 (Conv2D)        (None, 56, 56, 256)       590080    \n",
            "_________________________________________________________________\n",
            "block3_pool (MaxPooling2D)   (None, 28, 28, 256)       0         \n",
            "_________________________________________________________________\n",
            "block4_conv1 (Conv2D)        (None, 28, 28, 512)       1180160   \n",
            "_________________________________________________________________\n",
            "block4_conv2 (Conv2D)        (None, 28, 28, 512)       2359808   \n",
            "_________________________________________________________________\n",
            "block4_conv3 (Conv2D)        (None, 28, 28, 512)       2359808   \n",
            "_________________________________________________________________\n",
            "block4_conv4 (Conv2D)        (None, 28, 28, 512)       2359808   \n",
            "_________________________________________________________________\n",
            "block4_pool (MaxPooling2D)   (None, 14, 14, 512)       0         \n",
            "_________________________________________________________________\n",
            "block5_conv1 (Conv2D)        (None, 14, 14, 512)       2359808   \n",
            "_________________________________________________________________\n",
            "block5_conv2 (Conv2D)        (None, 14, 14, 512)       2359808   \n",
            "_________________________________________________________________\n",
            "block5_conv3 (Conv2D)        (None, 14, 14, 512)       2359808   \n",
            "_________________________________________________________________\n",
            "block5_conv4 (Conv2D)        (None, 14, 14, 512)       2359808   \n",
            "_________________________________________________________________\n",
            "block5_pool (MaxPooling2D)   (None, 7, 7, 512)         0         \n",
            "=================================================================\n",
            "Total params: 20,024,384\n",
            "Trainable params: 0\n",
            "Non-trainable params: 20,024,384\n",
            "_________________________________________________________________\n"
          ]
        }
      ]
    },
    {
      "cell_type": "code",
      "metadata": {
        "id": "09848227"
      },
      "source": [
        "model = Sequential()\n",
        "model.add(base_model)\n",
        "model.add(layers.Flatten())\n",
        "model.add(layers.Dense(50, activation='relu'))\n",
        "model.add(layers.Dense(4, activation='softmax'))"
      ],
      "id": "09848227",
      "execution_count": 47,
      "outputs": []
    },
    {
      "cell_type": "code",
      "metadata": {
        "colab": {
          "base_uri": "https://localhost:8080/"
        },
        "id": "DILJ817at7D4",
        "outputId": "fe094b9f-04fb-4182-d884-2dc3955dd2ea"
      },
      "source": [
        "model.layers"
      ],
      "id": "DILJ817at7D4",
      "execution_count": 48,
      "outputs": [
        {
          "output_type": "execute_result",
          "data": {
            "text/plain": [
              "[<keras.engine.functional.Functional at 0x7f7158e486d0>,\n",
              " <keras.layers.core.Flatten at 0x7f7158e48c90>,\n",
              " <keras.layers.core.Dense at 0x7f7158f0f9d0>,\n",
              " <keras.layers.core.Dense at 0x7f7158dc9f90>]"
            ]
          },
          "metadata": {},
          "execution_count": 48
        }
      ]
    },
    {
      "cell_type": "code",
      "metadata": {
        "id": "003bcfb6"
      },
      "source": [
        "model.compile(optimizer='adam', loss='categorical_crossentropy', metrics=['AUC', 'accuracy', 'Recall', 'Precision'])"
      ],
      "id": "003bcfb6",
      "execution_count": 49,
      "outputs": []
    },
    {
      "cell_type": "code",
      "metadata": {
        "id": "951f059d"
      },
      "source": [
        "es = EarlyStopping(patience=5, restore_best_weights=True)"
      ],
      "id": "951f059d",
      "execution_count": 50,
      "outputs": []
    },
    {
      "cell_type": "code",
      "metadata": {
        "colab": {
          "base_uri": "https://localhost:8080/"
        },
        "id": "32f76cd7",
        "outputId": "4747cc88-9445-4802-82de-13d749155d69"
      },
      "source": [
        "history = model.fit(train_generator, validation_data=validation_generator, epochs=10, callbacks=[es])"
      ],
      "id": "32f76cd7",
      "execution_count": 51,
      "outputs": [
        {
          "output_type": "stream",
          "name": "stdout",
          "text": [
            "Epoch 1/10\n",
            "257/257 [==============================] - 1050s 4s/step - loss: 1.2693 - auc: 0.8052 - accuracy: 0.5366 - recall: 0.4937 - precision: 0.5556 - val_loss: 1.0543 - val_auc: 0.8075 - val_accuracy: 0.5161 - val_recall: 0.4516 - val_precision: 0.5335\n",
            "Epoch 2/10\n",
            "257/257 [==============================] - 62s 240ms/step - loss: 0.8843 - auc: 0.8693 - accuracy: 0.6259 - recall: 0.5681 - precision: 0.6574 - val_loss: 1.2002 - val_auc: 0.7788 - val_accuracy: 0.4721 - val_recall: 0.4096 - val_precision: 0.5270\n",
            "Epoch 3/10\n",
            "257/257 [==============================] - 61s 239ms/step - loss: 0.8355 - auc: 0.8808 - accuracy: 0.6410 - recall: 0.5849 - precision: 0.6694 - val_loss: 1.1129 - val_auc: 0.7854 - val_accuracy: 0.4946 - val_recall: 0.3871 - val_precision: 0.5183\n",
            "Epoch 4/10\n",
            "257/257 [==============================] - 62s 239ms/step - loss: 0.7426 - auc: 0.9010 - accuracy: 0.6713 - recall: 0.6125 - precision: 0.7086 - val_loss: 1.2328 - val_auc: 0.8070 - val_accuracy: 0.5308 - val_recall: 0.5161 - val_precision: 0.5371\n",
            "Epoch 5/10\n",
            "257/257 [==============================] - 62s 240ms/step - loss: 0.7046 - auc: 0.9106 - accuracy: 0.6959 - recall: 0.6432 - precision: 0.7306 - val_loss: 1.5887 - val_auc: 0.6505 - val_accuracy: 0.3079 - val_recall: 0.2473 - val_precision: 0.3116\n",
            "Epoch 6/10\n",
            "257/257 [==============================] - 62s 240ms/step - loss: 0.6520 - auc: 0.9233 - accuracy: 0.7128 - recall: 0.6667 - precision: 0.7503 - val_loss: 1.1479 - val_auc: 0.7902 - val_accuracy: 0.4692 - val_recall: 0.4330 - val_precision: 0.4753\n"
          ]
        }
      ]
    },
    {
      "cell_type": "code",
      "metadata": {
        "colab": {
          "base_uri": "https://localhost:8080/"
        },
        "id": "yOKdBtBrfQwT",
        "outputId": "5da00584-b145-4312-f880-f48cb5cc839b"
      },
      "source": [
        "model.evaluate(validation_generator)"
      ],
      "id": "yOKdBtBrfQwT",
      "execution_count": 52,
      "outputs": [
        {
          "output_type": "stream",
          "name": "stdout",
          "text": [
            "64/64 [==============================] - 12s 193ms/step - loss: 1.0789 - auc: 0.8020 - accuracy: 0.5200 - recall: 0.4526 - precision: 0.5340\n"
          ]
        },
        {
          "output_type": "execute_result",
          "data": {
            "text/plain": [
              "[1.0788708925247192,\n",
              " 0.8019724488258362,\n",
              " 0.5200390815734863,\n",
              " 0.4525904059410095,\n",
              " 0.5340253710746765]"
            ]
          },
          "metadata": {},
          "execution_count": 52
        }
      ]
    },
    {
      "cell_type": "code",
      "metadata": {
        "id": "ojC6Yy4bfw8S"
      },
      "source": [
        "y_pred = model.predict(validation_generator)"
      ],
      "id": "ojC6Yy4bfw8S",
      "execution_count": 53,
      "outputs": []
    },
    {
      "cell_type": "code",
      "metadata": {
        "colab": {
          "base_uri": "https://localhost:8080/"
        },
        "id": "G-rIusBgoKGI",
        "outputId": "3df24bad-7015-4693-9417-f8b75c9410f9"
      },
      "source": [
        "validation_generator.classes"
      ],
      "id": "G-rIusBgoKGI",
      "execution_count": 12,
      "outputs": [
        {
          "output_type": "execute_result",
          "data": {
            "text/plain": [
              "array([0, 0, 0, 0, 0, 0, 0, 0, 0, 0, 0, 0, 0, 0, 1, 2, 2, 2, 2, 2, 2, 2,\n",
              "       2, 2, 2, 2, 2, 2, 2, 2, 2, 2, 2, 2, 2, 2, 2, 2, 2, 2, 2, 2, 2, 2,\n",
              "       2, 2, 2, 2, 2, 2, 2, 2, 2, 2, 2, 2, 2, 2, 2, 2, 2, 2, 2, 2, 2, 3,\n",
              "       3, 3, 3, 3, 3, 3, 3, 3, 3, 3, 3, 3, 3, 3, 3, 3, 3, 3, 3, 3, 3, 3,\n",
              "       3, 3, 3, 3, 3, 3, 3, 3, 3, 3, 3, 3], dtype=int32)"
            ]
          },
          "metadata": {},
          "execution_count": 12
        }
      ]
    },
    {
      "cell_type": "code",
      "metadata": {
        "colab": {
          "base_uri": "https://localhost:8080/"
        },
        "id": "10c832f2",
        "outputId": "f83cc95a-7cf3-444a-e434-3244ea06daa6"
      },
      "source": [
        "confusion_matrix(validation_generator.classes, np.argmax(y_pred, axis=1))"
      ],
      "id": "10c832f2",
      "execution_count": 54,
      "outputs": [
        {
          "output_type": "execute_result",
          "data": {
            "text/plain": [
              "array([[  3,   0,  65,  75],\n",
              "       [  1,   0,   3,   6],\n",
              "       [ 15,   0, 216, 281],\n",
              "       [  7,   0, 161, 190]])"
            ]
          },
          "metadata": {},
          "execution_count": 54
        }
      ]
    },
    {
      "cell_type": "code",
      "metadata": {
        "colab": {
          "base_uri": "https://localhost:8080/"
        },
        "id": "f1F0aN9klyzK",
        "outputId": "57d1353d-4795-4e07-a720-4fd96389bf51"
      },
      "source": [
        "print(classification_report(validation_generator.classes, np.argmax(y_pred, axis=1)))"
      ],
      "id": "f1F0aN9klyzK",
      "execution_count": 55,
      "outputs": [
        {
          "output_type": "stream",
          "name": "stdout",
          "text": [
            "              precision    recall  f1-score   support\n",
            "\n",
            "           0       0.12      0.02      0.04       143\n",
            "           1       0.00      0.00      0.00        10\n",
            "           2       0.49      0.42      0.45       512\n",
            "           3       0.34      0.53      0.42       358\n",
            "\n",
            "    accuracy                           0.40      1023\n",
            "   macro avg       0.24      0.24      0.23      1023\n",
            "weighted avg       0.38      0.40      0.38      1023\n",
            "\n"
          ]
        },
        {
          "output_type": "stream",
          "name": "stderr",
          "text": [
            "/usr/local/lib/python3.7/dist-packages/sklearn/metrics/_classification.py:1272: UndefinedMetricWarning: Precision and F-score are ill-defined and being set to 0.0 in labels with no predicted samples. Use `zero_division` parameter to control this behavior.\n",
            "  _warn_prf(average, modifier, msg_start, len(result))\n"
          ]
        }
      ]
    },
    {
      "cell_type": "code",
      "metadata": {
        "colab": {
          "base_uri": "https://localhost:8080/",
          "height": 444
        },
        "id": "8C8dMDL-o_cR",
        "outputId": "ff2b6e06-f047-4447-ab9d-aa675cbfcc27"
      },
      "source": [
        "CLASSES = [ 'MildDemented',\n",
        "            'ModerateDemented',\n",
        "            'NonDemented',\n",
        "            'VeryMildDemented']\n",
        "\n",
        "conf_arr = confusion_matrix(validation_generator.classes, np.argmax(y_pred, axis=-1))\n",
        "\n",
        "plt.figure(figsize=(8, 6), dpi=80, facecolor='w', edgecolor='k')\n",
        "\n",
        "ax = sns.heatmap(conf_arr, cmap='Greens', annot=True, fmt='d', xticklabels=CLASSES, yticklabels=CLASSES)\n",
        "\n",
        "plt.title('Alzheimer\\'s Disease Diagnosis')\n",
        "plt.xlabel('Prediction')\n",
        "plt.ylabel('Truth')\n",
        "plt.show(ax)"
      ],
      "id": "8C8dMDL-o_cR",
      "execution_count": 57,
      "outputs": [
        {
          "output_type": "display_data",
          "data": {
            "image/png": "[encoded data removed]",
            "text/plain": [
              "<Figure size 640x480 with 2 Axes>"
            ]
          },
          "metadata": {}
        }
      ]
    },
    {
      "cell_type": "code",
      "metadata": {
        "id": "KEcVL2_1vdSI"
      },
      "source": [
        ""
      ],
      "id": "KEcVL2_1vdSI",
      "execution_count": null,
      "outputs": []
    }
  ]
}