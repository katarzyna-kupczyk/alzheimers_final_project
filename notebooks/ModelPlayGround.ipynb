{
 "cells": [
  {
   "cell_type": "code",
   "execution_count": 1,
   "metadata": {
    "colab": {
     "base_uri": "https://localhost:8080/"
    },
    "id": "m8enbjUzBEvP",
    "outputId": "c237a4ae-1733-44fd-d8c7-6a4bcf7edce7"
   },
   "outputs": [
    {
     "name": "stdout",
     "output_type": "stream",
     "text": [
      "Drive already mounted at /content/drive/; to attempt to forcibly remount, call drive.mount(\"/content/drive/\", force_remount=True).\n"
     ]
    }
   ],
   "source": [
    "# Connecting to google drive\n",
    "from google.colab import drive\n",
    "drive.mount('/content/drive/')"
   ]
  },
  {
   "cell_type": "code",
   "execution_count": 17,
   "metadata": {
    "id": "cYvkg2nTBMEW"
   },
   "outputs": [],
   "source": [
    "# Imports\n",
    "import pandas as pd\n",
    "import numpy as np\n",
    "import matplotlib.pyplot as plt\n",
    "from tensorflow.keras.preprocessing.image import ImageDataGenerator\n",
    "from tensorflow.keras import Sequential, layers\n",
    "from tensorflow.keras.callbacks import EarlyStopping, ReduceLROnPlateau\n",
    "from sklearn.metrics import confusion_matrix\n",
    "from sklearn.metrics import ConfusionMatrixDisplay\n",
    "from sklearn.metrics import classification_report\n",
    "from tensorflow.keras.applications.vgg19 import VGG19\n",
    "import tensorflow as tf\n",
    "import seaborn as sns\n",
    "from tensorflow.keras.backend import expand_dims\n",
    "from tensorflow.keras.preprocessing import image_dataset_from_directory\n",
    "from tensorflow.keras.applications.densenet import DenseNet121\n",
    "from tensorflow.keras.layers import BatchNormalization\n",
    "from tensorflow.keras.layers import Dropout\n",
    "from tensorflow.keras.applications.resnet import ResNet101"
   ]
  },
  {
   "cell_type": "code",
   "execution_count": 18,
   "metadata": {
    "colab": {
     "base_uri": "https://localhost:8080/"
    },
    "id": "6l9r2v77BpCY",
    "outputId": "a42d41d6-f222-4d60-b8e5-d703652e3625"
   },
   "outputs": [
    {
     "name": "stdout",
     "output_type": "stream",
     "text": [
      "Found 4098 images belonging to 4 classes.\n",
      "Found 1023 images belonging to 4 classes.\n"
     ]
    }
   ],
   "source": [
    "# Importing data, normalising data, (not augmenting data - hashed out), for train and val set \n",
    "datagen = ImageDataGenerator(\n",
    "    rescale = 1./255, \n",
    "    # rotation_range = 5,\n",
    "    # zoom_range = 0.1,\n",
    "    # brightness_range = (0.95, 0.95),\n",
    "    # horizontal_flip = True,\n",
    "    # vertical_flip = True,\n",
    "    data_format = 'channels_last',\n",
    "    validation_split = 0.2,\n",
    "    dtype = tf.float32\n",
    ")\n",
    "\n",
    "train_generator = datagen.flow_from_directory(\n",
    "    '/content/drive/MyDrive/LeWagon/raw_data/AlzheimersDataset/train',\n",
    "    target_size = (224, 224),\n",
    "    batch_size = (32),\n",
    "    class_mode = 'categorical',\n",
    "    shuffle = True,\n",
    "    subset = 'training',\n",
    "    seed = 123\n",
    ")\n",
    "\n",
    "validation_generator = datagen.flow_from_directory(\n",
    "    '/content/drive/MyDrive/LeWagon/raw_data/AlzheimersDataset/train',\n",
    "    target_size = (224, 224),\n",
    "    batch_size = (32),\n",
    "    class_mode = 'categorical',\n",
    "    shuffle = True,\n",
    "    subset = 'validation',\n",
    "    seed = 123\n",
    ")"
   ]
  },
  {
   "cell_type": "code",
   "execution_count": 19,
   "metadata": {
    "colab": {
     "base_uri": "https://localhost:8080/"
    },
    "id": "mdjAYWXFCJLf",
    "outputId": "0acef8b8-5805-4c3d-f5ca-3527cda42ff9"
   },
   "outputs": [
    {
     "name": "stdout",
     "output_type": "stream",
     "text": [
      "Found 1279 images belonging to 4 classes.\n"
     ]
    }
   ],
   "source": [
    "# Importing data, normalising data, (not augmenting data - hashed out), for test set \n",
    "datagen2 = ImageDataGenerator(\n",
    "    rescale = 1./255, \n",
    "    # rotation_range = 5,\n",
    "    # zoom_range = (0.90, 0.90),\n",
    "    # brightness_range = (0.95, 0.95),\n",
    "    # horizontal_flip = True,\n",
    "    # vertical_flip = True,\n",
    "    data_format = 'channels_last',\n",
    "    validation_split = 0.0,\n",
    "    dtype = tf.float32\n",
    ")\n",
    "\n",
    "test_generator = datagen2.flow_from_directory(\n",
    "    '/content/drive/MyDrive/LeWagon/raw_data/AlzheimersDataset/test',\n",
    "    target_size = (224, 224),\n",
    "    batch_size = (32),\n",
    "    class_mode = 'categorical',\n",
    "    shuffle = True,\n",
    "    seed = 123\n",
    ")"
   ]
  },
  {
   "cell_type": "code",
   "execution_count": 20,
   "metadata": {
    "id": "0IRh49CVSiIc"
   },
   "outputs": [],
   "source": [
    "# AUTOTUNE = tf.data.experimental.AUTOTUNE\n",
    "# train_generator = train_generator.cache().prefetch(buffer_size=AUTOTUNE)\n",
    "# validation_generator = validation_generator.cache().prefetch(buffer_size=AUTOTUNE)"
   ]
  },
  {
   "cell_type": "code",
   "execution_count": 21,
   "metadata": {
    "colab": {
     "base_uri": "https://localhost:8080/"
    },
    "id": "9B4uviNnCdQG",
    "outputId": "9503db2b-d0aa-4687-aa60-e4285564646f"
   },
   "outputs": [
    {
     "name": "stdout",
     "output_type": "stream",
     "text": [
      "Downloading data from https://storage.googleapis.com/tensorflow/keras-applications/resnet/resnet101_weights_tf_dim_ordering_tf_kernels_notop.h5\n",
      "171450368/171446536 [==============================] - 1s 0us/step\n",
      "171458560/171446536 [==============================] - 1s 0us/step\n"
     ]
    }
   ],
   "source": [
    "# # THE MODELLLLLL\n",
    "\n",
    "# # VGG16 model\n",
    "# # base_model = VGG19(include_top=False, input_shape=(224, 224, 3), weights='imagenet')\n",
    "\n",
    "# DenseNet121 model\n",
    "base_model = DenseNet121(include_top=False, weights=\"imagenet\", input_shape=(224, 224, 3))\n",
    "\n",
    "# ResNet101 model\n",
    "base_model = ResNet101(include_top=False, weights=\"imagenet\", input_shape=(224, 224, 3))\n",
    "\n",
    "base_model.trainable = False\n",
    "\n",
    "model = Sequential()\n",
    "model.add(base_model)\n",
    "\n",
    "# model.add(layers.Conv2D(128, (3,3), padding='same', activation=\"relu\", kernel_regularizer='L2'))\n",
    "# model.add(BatchNormalization())\n",
    "# model.add(layers.MaxPool2D(pool_size=(2,2)))\n",
    "# # model.add(Dropout(0.25))\n",
    "\n",
    "# model.add(layers.Conv2D(128, (3,3), padding='same', activation=\"relu\"))\n",
    "# model.add(BatchNormalization())\n",
    "# model.add(layers.MaxPool2D(pool_size=(2,2)))\n",
    "# # model.add(Dropout(0.25))\n",
    "\n",
    "# model.add(layers.Conv2D(64, (3,3), padding='same', activation=\"relu\", kernel_regularizer='L2'))\n",
    "# model.add(BatchNormalization())\n",
    "# model.add(layers.MaxPool2D(pool_size=(2,2)))\n",
    "# # model.add(Dropout(0.25))\n",
    "\n",
    "# model.add(layers.Conv2D(64, (2,2), padding='same', activation=\"relu\"))\n",
    "# model.add(BatchNormalization())\n",
    "# model.add(layers.MaxPool2D(pool_size=(2,2)))\n",
    "# # model.add(Dropout(0.25))\n",
    "\n",
    "# model.add(layers.Conv2D(32, (2,2), padding='same', activation=\"relu\"))\n",
    "# model.add(BatchNormalization())\n",
    "# model.add(layers.MaxPool2D(pool_size=(2,2)))\n",
    "# # model.add(Dropout(0.2))\n",
    "\n",
    "# model.add(layers.Conv2D(32, (2,2), padding='same', activation=\"relu\"))\n",
    "# model.add(BatchNormalization())\n",
    "# model.add(layers.MaxPool2D(pool_size=(2,2)))\n",
    "\n",
    "model.add(layers.Flatten())\n",
    "model.add(layers.Dense(50, activation='relu'))\n",
    "model.add(layers.Dense(4, activation='softmax'))\n",
    "\n",
    "# Compiling\n",
    "model.compile(optimizer='adam', loss='categorical_crossentropy', metrics=['AUC', 'accuracy', 'Recall', 'Precision'])\n",
    "\n",
    "# Early stopping criterion\n",
    "# es = EarlyStopping(patience=15, restore_best_weights=True)\n",
    "rop = ReduceLROnPlateau(monitor='val_loss', factor=0.005, patience=15, restore_best_weights=True, min_lr=0.005)\n"
   ]
  },
  {
   "cell_type": "code",
   "execution_count": 22,
   "metadata": {
    "colab": {
     "base_uri": "https://localhost:8080/"
    },
    "id": "w4yqZ48GDIOj",
    "outputId": "2724cf66-c856-4fe8-c706-2c96f7108376"
   },
   "outputs": [
    {
     "name": "stdout",
     "output_type": "stream",
     "text": [
      "Epoch 1/50\n",
      "129/129 [==============================] - 37s 237ms/step - loss: 1.4652 - auc: 0.7529 - accuracy: 0.4695 - recall: 0.4119 - precision: 0.4874 - val_loss: 1.2857 - val_auc: 0.6661 - val_accuracy: 0.3099 - val_recall: 0.1544 - val_precision: 0.2888\n",
      "Epoch 2/50\n",
      "129/129 [==============================] - 28s 218ms/step - loss: 0.9398 - auc: 0.8406 - accuracy: 0.5681 - recall: 0.4812 - precision: 0.6045 - val_loss: 1.1717 - val_auc: 0.7217 - val_accuracy: 0.3861 - val_recall: 0.2698 - val_precision: 0.4646\n",
      "Epoch 3/50\n",
      "129/129 [==============================] - 28s 219ms/step - loss: 0.8940 - auc: 0.8559 - accuracy: 0.6018 - recall: 0.5149 - precision: 0.6464 - val_loss: 1.1767 - val_auc: 0.7646 - val_accuracy: 0.4741 - val_recall: 0.4086 - val_precision: 0.4629\n",
      "Epoch 4/50\n",
      "129/129 [==============================] - 28s 220ms/step - loss: 0.8107 - auc: 0.8822 - accuracy: 0.6452 - recall: 0.5691 - precision: 0.6920 - val_loss: 1.1106 - val_auc: 0.7724 - val_accuracy: 0.4721 - val_recall: 0.3578 - val_precision: 0.5199\n",
      "Epoch 5/50\n",
      "129/129 [==============================] - 29s 223ms/step - loss: 0.8315 - auc: 0.8776 - accuracy: 0.6376 - recall: 0.5781 - precision: 0.6755 - val_loss: 1.2043 - val_auc: 0.7698 - val_accuracy: 0.4770 - val_recall: 0.4223 - val_precision: 0.5281\n",
      "Epoch 6/50\n",
      "129/129 [==============================] - 29s 226ms/step - loss: 0.7477 - auc: 0.8993 - accuracy: 0.6715 - recall: 0.6066 - precision: 0.7166 - val_loss: 1.2426 - val_auc: 0.7429 - val_accuracy: 0.4409 - val_recall: 0.3578 - val_precision: 0.4326\n",
      "Epoch 7/50\n",
      "129/129 [==============================] - 29s 230ms/step - loss: 0.8112 - auc: 0.8837 - accuracy: 0.6493 - recall: 0.5774 - precision: 0.6890 - val_loss: 1.1634 - val_auc: 0.7961 - val_accuracy: 0.5200 - val_recall: 0.4497 - val_precision: 0.5374\n",
      "Epoch 8/50\n",
      "129/129 [==============================] - 30s 229ms/step - loss: 0.7322 - auc: 0.9043 - accuracy: 0.6840 - recall: 0.6130 - precision: 0.7302 - val_loss: 1.1532 - val_auc: 0.7588 - val_accuracy: 0.4467 - val_recall: 0.3558 - val_precision: 0.4932\n",
      "Epoch 9/50\n",
      "129/129 [==============================] - 29s 228ms/step - loss: 0.7596 - auc: 0.8971 - accuracy: 0.6659 - recall: 0.6125 - precision: 0.7041 - val_loss: 1.1432 - val_auc: 0.7999 - val_accuracy: 0.5230 - val_recall: 0.4516 - val_precision: 0.5500\n",
      "Epoch 10/50\n",
      "129/129 [==============================] - 29s 228ms/step - loss: 0.7123 - auc: 0.9094 - accuracy: 0.6957 - recall: 0.6306 - precision: 0.7360 - val_loss: 1.2039 - val_auc: 0.7447 - val_accuracy: 0.4096 - val_recall: 0.3236 - val_precision: 0.4179\n",
      "Epoch 11/50\n",
      "129/129 [==============================] - 29s 228ms/step - loss: 0.6825 - auc: 0.9171 - accuracy: 0.7111 - recall: 0.6545 - precision: 0.7500 - val_loss: 1.1958 - val_auc: 0.7834 - val_accuracy: 0.4907 - val_recall: 0.4477 - val_precision: 0.4967\n",
      "Epoch 12/50\n",
      "129/129 [==============================] - 29s 228ms/step - loss: 0.7339 - auc: 0.9078 - accuracy: 0.6984 - recall: 0.6474 - precision: 0.7276 - val_loss: 1.3725 - val_auc: 0.8060 - val_accuracy: 0.5347 - val_recall: 0.5308 - val_precision: 0.5366\n",
      "Epoch 13/50\n",
      "129/129 [==============================] - 29s 228ms/step - loss: 0.7245 - auc: 0.9075 - accuracy: 0.7033 - recall: 0.6315 - precision: 0.7445 - val_loss: 1.2248 - val_auc: 0.7638 - val_accuracy: 0.4770 - val_recall: 0.4272 - val_precision: 0.5476\n",
      "Epoch 14/50\n",
      "129/129 [==============================] - 30s 229ms/step - loss: 0.6903 - auc: 0.9157 - accuracy: 0.7052 - recall: 0.6364 - precision: 0.7551 - val_loss: 1.1155 - val_auc: 0.7855 - val_accuracy: 0.4995 - val_recall: 0.4096 - val_precision: 0.5324\n",
      "Epoch 15/50\n",
      "129/129 [==============================] - 30s 229ms/step - loss: 0.6832 - auc: 0.9172 - accuracy: 0.7091 - recall: 0.6467 - precision: 0.7550 - val_loss: 1.3272 - val_auc: 0.6881 - val_accuracy: 0.3412 - val_recall: 0.2434 - val_precision: 0.3388\n",
      "Epoch 16/50\n",
      "129/129 [==============================] - 30s 229ms/step - loss: 0.6547 - auc: 0.9245 - accuracy: 0.7245 - recall: 0.6662 - precision: 0.7740 - val_loss: 1.3522 - val_auc: 0.6790 - val_accuracy: 0.3412 - val_recall: 0.2375 - val_precision: 0.3427\n",
      "Epoch 17/50\n",
      "129/129 [==============================] - 30s 229ms/step - loss: 0.6358 - auc: 0.9298 - accuracy: 0.7452 - recall: 0.6886 - precision: 0.7848 - val_loss: 1.1525 - val_auc: 0.7720 - val_accuracy: 0.4594 - val_recall: 0.3978 - val_precision: 0.4845\n",
      "Epoch 18/50\n",
      "129/129 [==============================] - 30s 229ms/step - loss: 0.5740 - auc: 0.9450 - accuracy: 0.7789 - recall: 0.7204 - precision: 0.8184 - val_loss: 1.0647 - val_auc: 0.7989 - val_accuracy: 0.5024 - val_recall: 0.4115 - val_precision: 0.5384\n",
      "Epoch 19/50\n",
      "129/129 [==============================] - 29s 228ms/step - loss: 0.6221 - auc: 0.9320 - accuracy: 0.7462 - recall: 0.6913 - precision: 0.7832 - val_loss: 1.2872 - val_auc: 0.7522 - val_accuracy: 0.4506 - val_recall: 0.3939 - val_precision: 0.4488\n",
      "Epoch 20/50\n",
      "129/129 [==============================] - 29s 227ms/step - loss: 0.5845 - auc: 0.9403 - accuracy: 0.7599 - recall: 0.7106 - precision: 0.7989 - val_loss: 1.2120 - val_auc: 0.7398 - val_accuracy: 0.4057 - val_recall: 0.3353 - val_precision: 0.4525\n",
      "Epoch 21/50\n",
      "129/129 [==============================] - 29s 228ms/step - loss: 0.5431 - auc: 0.9499 - accuracy: 0.7838 - recall: 0.7269 - precision: 0.8252 - val_loss: 1.1191 - val_auc: 0.7966 - val_accuracy: 0.4976 - val_recall: 0.4350 - val_precision: 0.5394\n",
      "Epoch 22/50\n",
      "129/129 [==============================] - 29s 228ms/step - loss: 0.5955 - auc: 0.9372 - accuracy: 0.7552 - recall: 0.7108 - precision: 0.7907 - val_loss: 1.1112 - val_auc: 0.7793 - val_accuracy: 0.4643 - val_recall: 0.3812 - val_precision: 0.5045\n",
      "Epoch 23/50\n",
      "129/129 [==============================] - 30s 229ms/step - loss: 0.5321 - auc: 0.9514 - accuracy: 0.7828 - recall: 0.7391 - precision: 0.8244 - val_loss: 1.1818 - val_auc: 0.7579 - val_accuracy: 0.4223 - val_recall: 0.3509 - val_precision: 0.4465\n",
      "Epoch 24/50\n",
      "129/129 [==============================] - 29s 227ms/step - loss: 0.5135 - auc: 0.9548 - accuracy: 0.7962 - recall: 0.7572 - precision: 0.8341 - val_loss: 1.1111 - val_auc: 0.7850 - val_accuracy: 0.4682 - val_recall: 0.3959 - val_precision: 0.5044\n",
      "Epoch 25/50\n",
      "129/129 [==============================] - 30s 229ms/step - loss: 0.4976 - auc: 0.9575 - accuracy: 0.7980 - recall: 0.7611 - precision: 0.8324 - val_loss: 1.2201 - val_auc: 0.7618 - val_accuracy: 0.4321 - val_recall: 0.3783 - val_precision: 0.4443\n",
      "Epoch 26/50\n",
      "129/129 [==============================] - 29s 228ms/step - loss: 0.5056 - auc: 0.9553 - accuracy: 0.7889 - recall: 0.7443 - precision: 0.8177 - val_loss: 1.0837 - val_auc: 0.8298 - val_accuracy: 0.5543 - val_recall: 0.5191 - val_precision: 0.5691\n",
      "Epoch 27/50\n",
      "129/129 [==============================] - 29s 228ms/step - loss: 0.4842 - auc: 0.9593 - accuracy: 0.8050 - recall: 0.7687 - precision: 0.8347 - val_loss: 1.1342 - val_auc: 0.7935 - val_accuracy: 0.4800 - val_recall: 0.4389 - val_precision: 0.5034\n",
      "Epoch 28/50\n",
      "129/129 [==============================] - 29s 228ms/step - loss: 0.4788 - auc: 0.9601 - accuracy: 0.8104 - recall: 0.7711 - precision: 0.8353 - val_loss: 1.1683 - val_auc: 0.8275 - val_accuracy: 0.5494 - val_recall: 0.5083 - val_precision: 0.5721\n",
      "Epoch 29/50\n",
      "129/129 [==============================] - 29s 228ms/step - loss: 0.4444 - auc: 0.9663 - accuracy: 0.8255 - recall: 0.7914 - precision: 0.8530 - val_loss: 1.1865 - val_auc: 0.8082 - val_accuracy: 0.5093 - val_recall: 0.4966 - val_precision: 0.5168\n",
      "Epoch 30/50\n",
      "129/129 [==============================] - 29s 228ms/step - loss: 0.4564 - auc: 0.9636 - accuracy: 0.8138 - recall: 0.7814 - precision: 0.8411 - val_loss: 1.0697 - val_auc: 0.8370 - val_accuracy: 0.5670 - val_recall: 0.5435 - val_precision: 0.5726\n",
      "Epoch 31/50\n",
      "129/129 [==============================] - 29s 228ms/step - loss: 0.5026 - auc: 0.9543 - accuracy: 0.7936 - recall: 0.7648 - precision: 0.8166 - val_loss: 0.9897 - val_auc: 0.8368 - val_accuracy: 0.5464 - val_recall: 0.4907 - val_precision: 0.5724\n",
      "Epoch 32/50\n",
      "129/129 [==============================] - 29s 228ms/step - loss: 0.4526 - auc: 0.9636 - accuracy: 0.8138 - recall: 0.7860 - precision: 0.8379 - val_loss: 1.1249 - val_auc: 0.8314 - val_accuracy: 0.5474 - val_recall: 0.5161 - val_precision: 0.5671\n",
      "Epoch 33/50\n",
      "129/129 [==============================] - 30s 230ms/step - loss: 0.4597 - auc: 0.9621 - accuracy: 0.8153 - recall: 0.7877 - precision: 0.8376 - val_loss: 1.0907 - val_auc: 0.8374 - val_accuracy: 0.5572 - val_recall: 0.5191 - val_precision: 0.5874\n",
      "Epoch 34/50\n",
      "129/129 [==============================] - 29s 229ms/step - loss: 0.4053 - auc: 0.9716 - accuracy: 0.8421 - recall: 0.8092 - precision: 0.8656 - val_loss: 1.1126 - val_auc: 0.8359 - val_accuracy: 0.5601 - val_recall: 0.5425 - val_precision: 0.5710\n",
      "Epoch 35/50\n",
      "129/129 [==============================] - 30s 229ms/step - loss: 0.4093 - auc: 0.9705 - accuracy: 0.8394 - recall: 0.8106 - precision: 0.8593 - val_loss: 1.0423 - val_auc: 0.8472 - val_accuracy: 0.5728 - val_recall: 0.5464 - val_precision: 0.5947\n",
      "Epoch 36/50\n",
      "129/129 [==============================] - 29s 228ms/step - loss: 0.3757 - auc: 0.9760 - accuracy: 0.8529 - recall: 0.8287 - precision: 0.8732 - val_loss: 1.0857 - val_auc: 0.8227 - val_accuracy: 0.5288 - val_recall: 0.4917 - val_precision: 0.5368\n",
      "Epoch 37/50\n",
      "129/129 [==============================] - 30s 230ms/step - loss: 0.4126 - auc: 0.9691 - accuracy: 0.8285 - recall: 0.8084 - precision: 0.8452 - val_loss: 1.1490 - val_auc: 0.8424 - val_accuracy: 0.5670 - val_recall: 0.5484 - val_precision: 0.5937\n",
      "Epoch 38/50\n",
      "129/129 [==============================] - 30s 229ms/step - loss: 0.4136 - auc: 0.9701 - accuracy: 0.8480 - recall: 0.8233 - precision: 0.8671 - val_loss: 1.1047 - val_auc: 0.8121 - val_accuracy: 0.4995 - val_recall: 0.4682 - val_precision: 0.5235\n",
      "Epoch 39/50\n",
      "129/129 [==============================] - 30s 229ms/step - loss: 0.3355 - auc: 0.9815 - accuracy: 0.8785 - recall: 0.8577 - precision: 0.8965 - val_loss: 0.9484 - val_auc: 0.8575 - val_accuracy: 0.5816 - val_recall: 0.5513 - val_precision: 0.6045\n",
      "Epoch 40/50\n",
      "129/129 [==============================] - 30s 229ms/step - loss: 0.4044 - auc: 0.9700 - accuracy: 0.8375 - recall: 0.8133 - precision: 0.8509 - val_loss: 1.1145 - val_auc: 0.8307 - val_accuracy: 0.5484 - val_recall: 0.5279 - val_precision: 0.5493\n",
      "Epoch 41/50\n",
      "129/129 [==============================] - 30s 229ms/step - loss: 0.3017 - auc: 0.9857 - accuracy: 0.8870 - recall: 0.8675 - precision: 0.9044 - val_loss: 1.1729 - val_auc: 0.8360 - val_accuracy: 0.5425 - val_recall: 0.5396 - val_precision: 0.5482\n",
      "Epoch 42/50\n",
      "129/129 [==============================] - 30s 229ms/step - loss: 0.3148 - auc: 0.9834 - accuracy: 0.8782 - recall: 0.8585 - precision: 0.8920 - val_loss: 1.0712 - val_auc: 0.8225 - val_accuracy: 0.5210 - val_recall: 0.4858 - val_precision: 0.5396\n",
      "Epoch 43/50\n",
      "129/129 [==============================] - 30s 229ms/step - loss: 0.3200 - auc: 0.9823 - accuracy: 0.8782 - recall: 0.8580 - precision: 0.8933 - val_loss: 1.2640 - val_auc: 0.8401 - val_accuracy: 0.5660 - val_recall: 0.5435 - val_precision: 0.5768\n",
      "Epoch 44/50\n",
      "129/129 [==============================] - 30s 229ms/step - loss: 0.3348 - auc: 0.9798 - accuracy: 0.8753 - recall: 0.8587 - precision: 0.8880 - val_loss: 1.3173 - val_auc: 0.8108 - val_accuracy: 0.5171 - val_recall: 0.5103 - val_precision: 0.5220\n",
      "Epoch 45/50\n",
      "129/129 [==============================] - 30s 229ms/step - loss: 0.2667 - auc: 0.9891 - accuracy: 0.9063 - recall: 0.8907 - precision: 0.9169 - val_loss: 1.2894 - val_auc: 0.8128 - val_accuracy: 0.5034 - val_recall: 0.4956 - val_precision: 0.5101\n",
      "Epoch 46/50\n",
      "129/129 [==============================] - 30s 229ms/step - loss: 0.2870 - auc: 0.9862 - accuracy: 0.8897 - recall: 0.8753 - precision: 0.9047 - val_loss: 1.0991 - val_auc: 0.8277 - val_accuracy: 0.5406 - val_recall: 0.5034 - val_precision: 0.5586\n",
      "Epoch 47/50\n",
      "129/129 [==============================] - 30s 229ms/step - loss: 0.3533 - auc: 0.9773 - accuracy: 0.8741 - recall: 0.8594 - precision: 0.8874 - val_loss: 0.9537 - val_auc: 0.8646 - val_accuracy: 0.5894 - val_recall: 0.5670 - val_precision: 0.6131\n",
      "Epoch 48/50\n",
      "129/129 [==============================] - 30s 229ms/step - loss: 0.2904 - auc: 0.9850 - accuracy: 0.8816 - recall: 0.8714 - precision: 0.8945 - val_loss: 0.9806 - val_auc: 0.8586 - val_accuracy: 0.5777 - val_recall: 0.5464 - val_precision: 0.5922\n",
      "Epoch 49/50\n",
      "129/129 [==============================] - 29s 228ms/step - loss: 0.3177 - auc: 0.9813 - accuracy: 0.8726 - recall: 0.8594 - precision: 0.8843 - val_loss: 1.1258 - val_auc: 0.8236 - val_accuracy: 0.5308 - val_recall: 0.5005 - val_precision: 0.5494\n",
      "Epoch 50/50\n",
      "129/129 [==============================] - 30s 229ms/step - loss: 0.3567 - auc: 0.9765 - accuracy: 0.8638 - recall: 0.8509 - precision: 0.8735 - val_loss: 1.0879 - val_auc: 0.8369 - val_accuracy: 0.5503 - val_recall: 0.5239 - val_precision: 0.5589\n"
     ]
    },
    {
     "data": {
      "text/plain": [
       "<keras.callbacks.History at 0x7f11a9ea7290>"
      ]
     },
     "execution_count": 22,
     "metadata": {},
     "output_type": "execute_result"
    }
   ],
   "source": [
    "# Fitting the model\n",
    "model.fit(train_generator, validation_data=validation_generator, epochs=50, callbacks=[rop], verbose=1)"
   ]
  },
  {
   "cell_type": "code",
   "execution_count": 25,
   "metadata": {
    "colab": {
     "base_uri": "https://localhost:8080/"
    },
    "id": "5XFl-u0QDUEP",
    "outputId": "545946a0-2fe6-4db3-a0d4-494e28955d60"
   },
   "outputs": [
    {
     "name": "stdout",
     "output_type": "stream",
     "text": [
      "32/32 [==============================] - 6s 180ms/step - loss: 1.0879 - auc: 0.8369 - accuracy: 0.5503 - recall: 0.5239 - precision: 0.5589\n"
     ]
    },
    {
     "data": {
      "text/plain": [
       "[1.0879493951797485,\n",
       " 0.8369439840316772,\n",
       " 0.5503421425819397,\n",
       " 0.523949146270752,\n",
       " 0.5589155554771423]"
      ]
     },
     "execution_count": 25,
     "metadata": {},
     "output_type": "execute_result"
    }
   ],
   "source": [
    "# Test against validation generator\n",
    "model.evaluate(validation_generator)"
   ]
  },
  {
   "cell_type": "code",
   "execution_count": 26,
   "metadata": {
    "colab": {
     "base_uri": "https://localhost:8080/"
    },
    "id": "Ej_3Qx-PVRbM",
    "outputId": "dfc0a364-6a76-4e39-c90f-6e2009f4b89e"
   },
   "outputs": [
    {
     "name": "stdout",
     "output_type": "stream",
     "text": [
      "40/40 [==============================] - 7s 178ms/step - loss: 1.3454 - auc: 0.8058 - accuracy: 0.5160 - recall: 0.5082 - precision: 0.5263\n"
     ]
    },
    {
     "data": {
      "text/plain": [
       "[1.3453662395477295,\n",
       " 0.8057735562324524,\n",
       " 0.5160281658172607,\n",
       " 0.5082095265388489,\n",
       " 0.5263158082962036]"
      ]
     },
     "execution_count": 26,
     "metadata": {},
     "output_type": "execute_result"
    }
   ],
   "source": [
    "# Test against test generator\n",
    "model.evaluate(test_generator)"
   ]
  },
  {
   "cell_type": "code",
   "execution_count": null,
   "metadata": {
    "id": "tqyOr0BwDpye"
   },
   "outputs": [],
   "source": [
    "# Confusion matrix with validation generator\n",
    "\n",
    "y_pred = model.predict(validation_generator)\n",
    "\n",
    "CLASSES = [ 'MildDemented',\n",
    "            'ModerateDemented',\n",
    "            'NonDemented',\n",
    "            'VeryMildDemented']\n",
    "\n",
    "conf_arr = confusion_matrix(validation_generator.classes, np.argmax(y_pred, axis=-1))\n",
    "\n",
    "plt.figure(figsize=(8, 6), dpi=80, facecolor='w', edgecolor='k')\n",
    "\n",
    "ax = sns.heatmap(conf_arr, cmap='Greens', annot=True, fmt='d', xticklabels=CLASSES, yticklabels=CLASSES)\n",
    "\n",
    "plt.title('Alzheimer\\'s Diagnosis')\n",
    "plt.xlabel('Prediction')\n",
    "plt.ylabel('Truth')\n",
    "plt.show(ax)"
   ]
  },
  {
   "cell_type": "code",
   "execution_count": null,
   "metadata": {
    "id": "fVs9BJDXMn4I"
   },
   "outputs": [],
   "source": [
    "# Confusion matrix with test generator\n",
    "\n",
    "y_pred = model.predict(test_generator)\n",
    "\n",
    "CLASSES = [ 'MildDemented',\n",
    "            'ModerateDemented',\n",
    "            'NonDemented',\n",
    "            'VeryMildDemented']\n",
    "\n",
    "conf_arr = confusion_matrix(test_generator.classes, np.argmax(y_pred, axis=-1))\n",
    "\n",
    "plt.figure(figsize=(8, 6), dpi=80, facecolor='w', edgecolor='k')\n",
    "\n",
    "ax = sns.heatmap(conf_arr, cmap='Greens', annot=True, fmt='d', xticklabels=CLASSES, yticklabels=CLASSES)\n",
    "\n",
    "plt.title('Alzheimer\\'s Diagnosis')\n",
    "plt.xlabel('Prediction')\n",
    "plt.ylabel('Truth')\n",
    "plt.show(ax)"
   ]
  },
  {
   "cell_type": "code",
   "execution_count": 16,
   "metadata": {
    "id": "lBrPDYkGMxM-"
   },
   "outputs": [],
   "source": []
  }
 ],
 "metadata": {
  "accelerator": "GPU",
  "colab": {
   "name": "HunkyChunkyModel.ipynb",
   "provenance": []
  },
  "kernelspec": {
   "display_name": "Python 3 (ipykernel)",
   "language": "python",
   "name": "python3"
  },
  "language_info": {
   "codemirror_mode": {
    "name": "ipython",
    "version": 3
   },
   "file_extension": ".py",
   "mimetype": "text/x-python",
   "name": "python",
   "nbconvert_exporter": "python",
   "pygments_lexer": "ipython3",
   "version": "3.8.6"
  },
  "toc": {
   "base_numbering": 1,
   "nav_menu": {},
   "number_sections": true,
   "sideBar": true,
   "skip_h1_title": false,
   "title_cell": "Table of Contents",
   "title_sidebar": "Contents",
   "toc_cell": false,
   "toc_position": {},
   "toc_section_display": true,
   "toc_window_display": false
  }
 },
 "nbformat": 4,
 "nbformat_minor": 1
}
